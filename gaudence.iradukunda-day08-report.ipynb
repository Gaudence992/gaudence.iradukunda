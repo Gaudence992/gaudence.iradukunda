{
 "cells": [
  {
   "cell_type": "markdown",
   "metadata": {
    "id": "sm-kMbirqqyt"
   },
   "source": [
    "# PyPro: challenge 1 \n",
    "\n",
    "### This challenge is due on Sunday 29th September 2024 at 8pm.\n",
    "\n",
    "`These exercises provide a wide range of challenges that test your understanding of Python's core concepts, such as control structures, data types, string manipulations, list comprehensions, and higher-order functions.`\n",
    "\n",
    "\n",
    "#### Basic Tasks\n",
    "\n",
    "1. Create a function `find_max()` that accepts two numeric inputs and returns the greater value. Avoid using the built-in `max()` function.\n",
    "\n",
    "2. Develop a function `find_max_of_three()` to find the maximum among three given numbers.\n",
    "\n",
    "3. Write a function to manually calculate the length of a given list or string without using `len()`.\n",
    "\n",
    "4. Implement a function that checks if a given character is a vowel (a, e, i, o, u).\n",
    "\n",
    "5. Write a function `encode()` that converts a string into \"rövarspråket\" ([robber's language](https://en.wikipedia.org/wiki/R%C3%B6varspr%C3%A5ket)) by doubling consonants and placing \"o\" in between, e.g., \"hello\" -> \"hohelollolo\".\n",
    "\n",
    "6. Create `sum_elements()` and `product_elements()` functions to sum and multiply all elements in a list, respectively.\n",
    "\n",
    "7. Define a function `reverse_string()` to reverse the characters in a given string.\n",
    "\n",
    "8. Implement `check_palindrome()` to verify if a string reads the same forwards and backwards, i.e. is a [palindrome](https://en.wikipedia.org/wiki/Palindrome).\n",
    "\n",
    "9. Develop a function `check_membership()` to determine if a value exists within a list.\n",
    "\n",
    "10. Write `check_overlap()` to identify if two lists share any elements.\n",
    "\n",
    "11. Implement `repeat_char()` that generates a string with a specified character repeated `n` times.\n",
    "\n",
    "12. Create a function `print_histogram()` that takes a list of integers and prints a corresponding histogram.\n",
    "\n",
    "13. Write `find_max_in_list()` to identify the largest number in a list of arbitrary length.\n",
    "\n",
    "14. Create a program that maps each word in a list to its length.\n",
    "\n",
    "15. Implement `longest_word()` to find the longest word in a list.\n",
    "\n",
    "16. Develop `filter_words()` to return words longer than a specified length from a list.\n",
    "\n",
    "17. Enhance the palindrome recognizer to handle phrases, ignoring spaces, punctuation, and case.\n",
    "\n",
    "18. Implement a function that checks if a given sentence is a [pangram](https://en.wikipedia.org/wiki/Pangram).\n",
    "\n",
    "19. Write a function that generates verses for the \"99 Bottles of Beer\" song.\n",
    "\n",
    "20. Create a translation function using a small dictionary to translate English words into French/.\n",
    "\n",
    "21. Develop `char_frequency()` to build a dictionary of character frequencies in a string.\n",
    "\n",
    "22. Implement a [Caesar cipher encoder/decoder using a shift of 13 (ROT-13)](https://en.wikipedia.org/wiki/ROT13).\n",
    "\n",
    "23. Create `fix_spaces()` to correct multiple spaces and missing spaces after periods in a text.\n",
    "\n",
    "24. Write `convert_to_third_person()` to transform verbs into their third person singular form.\n",
    "\n",
    "25. Implement `make_ing_form()` to convert verbs into their present participle form using heuristic rules.\n",
    "\n",
    "\n",
    "\n",
    "\n",
    "\n",
    "#### Higher-Order Functions and List Comprehensions\n",
    "\n",
    "26. Use `reduce()` to write `max_in_list()` that returns the largest number in a list.\n",
    "\n",
    "27. Write a program that maps words to their lengths using a for-loop, `map()`, and list comprehensions.\n",
    "\n",
    "28. Implement `find_longest_word()` using only higher-order functions.\n",
    "\n",
    "29. Use `filter()` to write `filter_long_words()` that filters words longer than `n`.\n",
    "\n",
    "30. Create `translate_with_map()` to translate English words to French using `map()`.\n",
    "\n",
    "31. Re-implement the higher-order functions `map()`, `filter()`, and `reduce()` from scratch.\n",
    "\n",
    "\n",
    "\n",
    "\n",
    "\n",
    "#### Simple Tasks with I/O\n",
    "\n",
    "32. Write a palindrome recognizer that reads lines from a file and prints only the palindromes.\n",
    "\n",
    "33. Implement a [semordnilap](https://en.wiktionary.org/wiki/semordnilap) recognizer that finds word pairs from a file where each word is the reverse of the other.\n",
    "\n",
    "34. Create `char_frequency_table()` to display a sorted character frequency table from a file.\n",
    "\n",
    "35. Write a function `speak_ICAO()` that translates text into the [ICAO phonetic alphabet](https://en.wikipedia.org/wiki/NATO_phonetic_alphabet).\n",
    "\n",
    "36. Implement `find_hapaxes()` to identify words that occur only once in a text file.\n",
    "\n",
    "37. Write a program that numbers each line in a text file.\n",
    "\n",
    "38. Calculate the average word length in a text file.\n",
    "\n",
    "39. Implement a number-guessing game where the user guesses a number between 1 and 20.\n",
    "\n",
    "40. Write a program that presents an [anagram](https://en.wikipedia.org/wiki/Anagram) of a randomly chosen word and allows the user to guess the original.\n",
    "\n",
    "41. Create a [Lingo game](https://en.wikipedia.org/wiki/Lingo_(American_game_show)) where players guess a hidden word, receiving clues about correct and misplaced characters.\n",
    "\n",
    "\n",
    "\n",
    "#### Advanced Tasks\n",
    "\n",
    "42. Develop a sentence splitter that separates a text into sentences based on various heuristics.\n",
    "\n",
    "43. Write a program to find the largest group of anagrams in a given word list.\n",
    "\n",
    "44. Generate a string of balanced brackets and verify if it is balanced.\n",
    "\n",
    "45. Create a word chain game where each word starts with the last letter of the previous one, using a list of [Pokemon names](https://en.wikipedia.org/wiki/List_of_Pok%C3%A9mon)."
   ]
  },
  {
   "cell_type": "markdown",
   "metadata": {},
   "source": [
    "# 1. Create a function find_max() that accepts two numeric inputs and returns the greater value. Avoid using the built-in max() function."
   ]
  },
  {
   "cell_type": "code",
   "execution_count": 1,
   "metadata": {},
   "outputs": [
    {
     "name": "stdout",
     "output_type": "stream",
     "text": [
      "Enter a number15\n",
      "Enter a number10\n",
      "15\n"
     ]
    }
   ],
   "source": [
    "def find_max():\n",
    "    x = int(input(\"Enter a number\"))\n",
    "    y = int(input(\"Enter a number\"))\n",
    "    if x > y:\n",
    "        print(x)\n",
    "    else:\n",
    "        print(y)\n",
    "find_max()"
   ]
  },
  {
   "cell_type": "markdown",
   "metadata": {},
   "source": [
    "# 2. Develop a function find_max_of_three() to find the maximum among three given numbers.2. "
   ]
  },
  {
   "cell_type": "code",
   "execution_count": 5,
   "metadata": {},
   "outputs": [
    {
     "name": "stdout",
     "output_type": "stream",
     "text": [
      "Enter a first number100\n",
      "Enter a second number103\n",
      "Enter a third number50\n",
      "103\n"
     ]
    }
   ],
   "source": [
    "def find_max_of_three():\n",
    "    x = int(input(\"Enter a first number\"))\n",
    "    y = int(input(\"Enter a second number\"))\n",
    "    z = int(input(\"Enter a third number\"))\n",
    "    if x > y:\n",
    "        print(x)\n",
    "    elif y > z:\n",
    "        print(y)\n",
    "    else:\n",
    "        print(z)\n",
    "find_max_of_three()"
   ]
  },
  {
   "cell_type": "markdown",
   "metadata": {},
   "source": [
    "# 3. Write a function to manually calculate the length of a given list or string without using len()."
   ]
  },
  {
   "cell_type": "code",
   "execution_count": 11,
   "metadata": {},
   "outputs": [
    {
     "name": "stdout",
     "output_type": "stream",
     "text": [
      "5\n",
      "8\n"
     ]
    }
   ],
   "source": [
    "def manual_length(input_data):\n",
    "    count = 0\n",
    "    for i in input_data:\n",
    "        count += 1\n",
    "    return count\n",
    "print(manual_length([1, 2, 3, 4, 5]))\n",
    "print(manual_length(\"Gaudence\"))"
   ]
  },
  {
   "cell_type": "markdown",
   "metadata": {},
   "source": [
    "# 4. Implement a function that checks if a given character is a vowel (a, e, i, o, u)."
   ]
  },
  {
   "cell_type": "code",
   "execution_count": 12,
   "metadata": {},
   "outputs": [
    {
     "name": "stdout",
     "output_type": "stream",
     "text": [
      "True\n",
      "False\n"
     ]
    }
   ],
   "source": [
    "def is_vowel(char):\n",
    "    \n",
    "    \"\"\" Returns True if the character is a vowel (a, e, i, o, u), False otherwise. \"\"\"\n",
    "    \n",
    "    return char.lower() in 'aeiou'\n",
    "print(is_vowel('a'))\n",
    "print(is_vowel('b'))"
   ]
  },
  {
   "cell_type": "markdown",
   "metadata": {},
   "source": [
    "# 5. Write a function encode() that converts a string into \"rövarspråket\" (robber's language) by doubling consonants and placing \"o\" in between, e.g., \"hello\" -> \"hohelollolo\"."
   ]
  },
  {
   "cell_type": "code",
   "execution_count": 21,
   "metadata": {},
   "outputs": [
    {
     "name": "stdout",
     "output_type": "stream",
     "text": [
      "hohelollolo\n"
     ]
    }
   ],
   "source": [
    "def encode(text):\n",
    "    \n",
    "    \"\"\" Doubles consonants and adds 'o' in between. \"\"\"\n",
    "    \n",
    "    return ''.join(c + 'o' + c if c.lower() not in 'aeiou' and c.isalpha() else c for c in text)\n",
    "print(encode(\"hello\"))"
   ]
  },
  {
   "cell_type": "markdown",
   "metadata": {},
   "source": [
    "# 6. Create sum_elements() and product_elements() functions to sum and multiply all elements in a list, respectively."
   ]
  },
  {
   "cell_type": "code",
   "execution_count": 23,
   "metadata": {},
   "outputs": [
    {
     "name": "stdout",
     "output_type": "stream",
     "text": [
      "10\n",
      "24\n"
     ]
    }
   ],
   "source": [
    "def sum_elements(lst):\n",
    "    \n",
    "    \"\"\"Returns the sum of all elements in the list.\"\"\"\n",
    "    \n",
    "    return sum(lst)\n",
    "def product_elements(lst):\n",
    "    \n",
    "    \"\"\"Returns the product of all elements in the list.\"\"\"\n",
    "    \n",
    "    product = 1\n",
    "    for num in lst:\n",
    "        product *= num\n",
    "    return product\n",
    "\n",
    "print(sum_elements(numbers))\n",
    "print(product_elements(numbers))"
   ]
  },
  {
   "cell_type": "markdown",
   "metadata": {},
   "source": [
    "# 7. Define a function reverse_string() to reverse the characters in a given string."
   ]
  },
  {
   "cell_type": "code",
   "execution_count": 28,
   "metadata": {},
   "outputs": [
    {
     "name": "stdout",
     "output_type": "stream",
     "text": [
      "Enter a string: Gaudence\n",
      "ecneduaG\n"
     ]
    }
   ],
   "source": [
    "def reverse_string(s):\n",
    "    \n",
    "    \"\"\"Returns the reversed string\"\"\"\n",
    "    \n",
    "    return s[::-1]\n",
    "\n",
    "x = input(\"Enter a string: \")\n",
    "print(reverse_string(x))"
   ]
  },
  {
   "cell_type": "markdown",
   "metadata": {},
   "source": [
    "# 8. Implement check_palindrome() to verify if a string reads the same forwards and backwards, i.e. is a palindrome."
   ]
  },
  {
   "cell_type": "code",
   "execution_count": 31,
   "metadata": {},
   "outputs": [
    {
     "name": "stdout",
     "output_type": "stream",
     "text": [
      "Enter a string to check if it's a palindrome: Jolie\n",
      "It's not a polindrome\n"
     ]
    }
   ],
   "source": [
    "def check_dalindrome(s):\n",
    "    \n",
    "    \"\"\"Returns True if the string is a palindrome, False otherwise.\"\"\"\n",
    "    \n",
    "    return s == s[::-1]\n",
    "\n",
    "x = input(\"Enter a string to check if it's a palindrome: \")\n",
    "if check_palindrome(x):\n",
    "    print(\"It's a palindrome!\")\n",
    "else:\n",
    "    print(\"It's not a polindrome\")\n"
   ]
  },
  {
   "cell_type": "markdown",
   "metadata": {},
   "source": [
    "# 9. Develop a function check_membership() to determine if a value exists within a list."
   ]
  },
  {
   "cell_type": "code",
   "execution_count": 34,
   "metadata": {},
   "outputs": [
    {
     "name": "stdout",
     "output_type": "stream",
     "text": [
      "Enter a value to check: 7\n",
      "Enter a list of values (comma_separated): 1, 2, 3, 4, 7, 9, 11\n",
      "7 exists in the list.\n"
     ]
    }
   ],
   "source": [
    "def check_mambership(value, lst):\n",
    "    \n",
    "    \"\"\"Returns True if the value exists in the list, False otherwise.\"\"\"\n",
    "    \n",
    "    return value in lst\n",
    "\n",
    "value = input(\"Enter a value to check: \")\n",
    "lst = input(\"Enter a list of values (comma_separated): \").split(',')\n",
    "\n",
    "lst = [item.strip() for item in lst]\n",
    "if check_membership(value, lst):\n",
    "    print(f\"{value} exists in the list.\")\n",
    "else:\n",
    "          print(f\"{value} does not exist in the list.\")\n"
   ]
  },
  {
   "cell_type": "markdown",
   "metadata": {},
   "source": [
    "# 10. Write check_overlap() to identify if two lists share any elements."
   ]
  },
  {
   "cell_type": "code",
   "execution_count": 38,
   "metadata": {},
   "outputs": [
    {
     "name": "stdout",
     "output_type": "stream",
     "text": [
      "Enter the first list of values (comma-separated): 1, 2, 3, 4\n",
      "Enter the second list of values (comma_separated): 2, 4, 6, 8\n",
      "The lists share common elements.\n"
     ]
    }
   ],
   "source": [
    "def check_overlap(x1, x2):\n",
    "    \n",
    "    \"\"\"Returns True if there are common elements between the two lists, False otherwise.\"\"\"\n",
    "    return bool(set(x1) & set(x2))\n",
    "x1 = input(\"Enter the first list of values (comma-separated): \").split(',')\n",
    "x2 = input(\"Enter the second list of values (comma_separated): \").split(',')\n",
    "\n",
    "x1 = [item.strip() for item in x1]\n",
    "x2 = [item.strip() for item in x2]\n",
    "\n",
    "if check_overlap(x1, x2):\n",
    "    print(\"The lists share common elements.\")\n",
    "else:\n",
    "    print(\"The lists do not share any common elements\")"
   ]
  },
  {
   "cell_type": "markdown",
   "metadata": {},
   "source": [
    "# 11. Implement repeat_char() that generates a string with a specified character repeated n times."
   ]
  },
  {
   "cell_type": "code",
   "execution_count": 39,
   "metadata": {},
   "outputs": [
    {
     "name": "stdout",
     "output_type": "stream",
     "text": [
      "Enter a character to repeat: Hello\n",
      "Enter the of times to repeat the character: 10\n",
      "Repeated string: HelloHelloHelloHelloHelloHelloHelloHelloHelloHello\n"
     ]
    }
   ],
   "source": [
    "def repeat_char(char, n):\n",
    "    \n",
    "    \"\"\"Returns a string with the character repeated n times.\"\"\"\n",
    "    return char * n\n",
    "char = input(\"Enter a character to repeat: \")\n",
    "n = int(input(\"Enter the of times to repeat the character: \"))\n",
    "\n",
    "result = repeat_char(char, n)\n",
    "print(f\"Repeated string: {result}\")"
   ]
  },
  {
   "cell_type": "markdown",
   "metadata": {},
   "source": [
    "# 12. Create a function print_histogram() that takes a list of integers and prints a corresponding histogram."
   ]
  },
  {
   "cell_type": "code",
   "execution_count": 42,
   "metadata": {},
   "outputs": [
    {
     "name": "stdout",
     "output_type": "stream",
     "text": [
      "Enter a list of integers (comma_separated): 1, 1, 2, 4, 6, 7, 8, 10, 5, 5, 5,5, 7, 9, 8, 2, 4, 5, 8, 9, 10\n",
      "*\n",
      "**\n",
      "*******\n"
     ]
    }
   ],
   "source": [
    "def print_histogram(numbers):\n",
    "    \n",
    "    \"\"\"prints a histogram for the given list of integers.\"\"\"\n",
    "    for number  in numbers:\n",
    "        print('*' * number)\n",
    "x = input(\"Enter a list of integers (comma_separated): \")\n",
    "numbers = [int(num.strip()) for num in user_input.split(',')]\n",
    "\n",
    "print_histogram(numbers)"
   ]
  },
  {
   "cell_type": "markdown",
   "metadata": {},
   "source": [
    "# 13. Write find_max_in_list() to identify the largest number in a list of arbitrary length."
   ]
  },
  {
   "cell_type": "code",
   "execution_count": 10,
   "metadata": {},
   "outputs": [
    {
     "name": "stdout",
     "output_type": "stream",
     "text": [
      "Enter a list of numbers (comma_separated): 2, 4, 6, 8, 90\n",
      "The largest number is: 90\n"
     ]
    }
   ],
   "source": [
    "def find_max_in_list(numbers):\n",
    "    \"\"\"Returns the largest number in the list or None if the list is empty.\"\"\"\n",
    "    return max(numbers) if numbers else None\n",
    "y = input(\"Enter a list of numbers (comma_separated): \")\n",
    "numbers = [int(num.strip()) for num in y.split(',')]\n",
    "\n",
    "largest_number = find_max_in_list(numbers)\n",
    "print(f\"The largest number is: {largest_number}\" if largest_number is not None else \"The list is empty.\")"
   ]
  },
  {
   "cell_type": "markdown",
   "metadata": {},
   "source": [
    "# 14. Create a program that maps each word in a list to its length."
   ]
  },
  {
   "cell_type": "code",
   "execution_count": 11,
   "metadata": {},
   "outputs": [
    {
     "name": "stdout",
     "output_type": "stream",
     "text": [
      "Enter a list of words (comma_separated): jojo, gogo, lilly, soso\n",
      "{'3': 1, '5': 1, '7': 1}\n"
     ]
    }
   ],
   "source": [
    "def map_word_lengths(words):\n",
    "    \n",
    "    \"\"\"Return a dictionary mapping each word to its length.\"\"\"\n",
    "    return {word: len(word) for word in words}\n",
    "z = input(\"Enter a list of words (comma_separated): \")\n",
    "words = [word.strip() for word in user_input.split(',')]\n",
    "\n",
    "word_lengths = map_word_lengths(words)\n",
    "print(word_lengths)"
   ]
  }
 ],
 "metadata": {
  "colab": {
   "provenance": []
  },
  "kernelspec": {
   "display_name": "Python 3 (ipykernel)",
   "language": "python",
   "name": "python3"
  },
  "language_info": {
   "codemirror_mode": {
    "name": "ipython",
    "version": 3
   },
   "file_extension": ".py",
   "mimetype": "text/x-python",
   "name": "python",
   "nbconvert_exporter": "python",
   "pygments_lexer": "ipython3",
   "version": "3.11.5"
  }
 },
 "nbformat": 4,
 "nbformat_minor": 1
}
