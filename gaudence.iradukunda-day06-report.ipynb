{
 "cells": [
  {
   "cell_type": "markdown",
   "id": "481a70b4",
   "metadata": {},
   "source": [
    "# Questio 1"
   ]
  },
  {
   "cell_type": "code",
   "execution_count": 3,
   "id": "271a4679",
   "metadata": {},
   "outputs": [
    {
     "name": "stdout",
     "output_type": "stream",
     "text": [
      "the value for n: 6\n",
      "1\n",
      "3\n",
      "5\n",
      "18\n"
     ]
    }
   ],
   "source": [
    "n=int(input(\"the value for n: \"))\n",
    "sm=0\n",
    "for i in range(n):\n",
    "    if i % 2 != 0:\n",
    "        print(i)\n",
    "        sm +=i+3\n",
    "print(sm)    "
   ]
  },
  {
   "cell_type": "code",
   "execution_count": 5,
   "id": "88f997a3",
   "metadata": {},
   "outputs": [
    {
     "name": "stdout",
     "output_type": "stream",
     "text": [
      "the value for n: 5\n",
      "0\n",
      "2\n",
      "4\n",
      "105\n"
     ]
    }
   ],
   "source": [
    "n=int(input(\"the value for n: \"))\n",
    "p=1\n",
    "for i in range(n):\n",
    "    if i % 2 == 0:\n",
    "        print(i)\n",
    "        p *=i+3\n",
    "print(p)    "
   ]
  },
  {
   "cell_type": "markdown",
   "id": "f418dfca",
   "metadata": {},
   "source": [
    "# Question 2"
   ]
  },
  {
   "cell_type": "code",
   "execution_count": 19,
   "id": "c2acdcc7",
   "metadata": {},
   "outputs": [
    {
     "name": "stdout",
     "output_type": "stream",
     "text": [
      "Enter a number for any day from 0 to 6: 3\n",
      "Thursday\n"
     ]
    }
   ],
   "source": [
    "n=int(input(\"Enter a number for any day from 0 to 6: \"))\n",
    "if n==0:\n",
    "    print(\"Monday\")\n",
    "elif n==1:\n",
    "    print(\"Tuesday\")\n",
    "elif n==2:\n",
    "    print(\" Wednesday\")\n",
    "elif n==3:\n",
    "    print(\"Thursday\")\n",
    "elif n==4:\n",
    "    print(\" Friday\")\n",
    "elif n==5:\n",
    "    print(\"Weekend\")\n",
    "elif n==6:\n",
    "    print(\"Weekend\")\n",
    "else:\n",
    "    print(\"Invalid number of a day \")"
   ]
  },
  {
   "cell_type": "markdown",
   "id": "19bba67b",
   "metadata": {},
   "source": [
    "# Question 3"
   ]
  },
  {
   "cell_type": "code",
   "execution_count": 21,
   "id": "0349c8dc",
   "metadata": {},
   "outputs": [
    {
     "name": "stdout",
     "output_type": "stream",
     "text": [
      "Enter the month number (0-11): 5\n",
      "30 days\n"
     ]
    }
   ],
   "source": [
    "x = int(input(\"Enter the month number (0-11): \"))\n",
    "if x in [0, 2, 4, 6, 7, 9, 11]:\n",
    "    print(\"31 days\")\n",
    "elif x in [3, 5, 8, 10]:\n",
    "    print(\"30 days\")\n",
    "else:\n",
    "    print(\"28 days\")"
   ]
  },
  {
   "cell_type": "markdown",
   "id": "274ef703",
   "metadata": {},
   "source": [
    "# Question 4"
   ]
  },
  {
   "cell_type": "code",
   "execution_count": 1,
   "id": "00c4004e",
   "metadata": {},
   "outputs": [
    {
     "name": "stdout",
     "output_type": "stream",
     "text": [
      "IRADUKUNDA Gaudence\n",
      "IRADUKUNDA Gaudence\n",
      "IRADUKUNDA Gaudence\n"
     ]
    }
   ],
   "source": [
    "# For a \"for loop\"\n",
    "\n",
    "for i in range(3):\n",
    "    print(\"IRADUKUNDA Gaudence\")"
   ]
  },
  {
   "cell_type": "code",
   "execution_count": 14,
   "id": "0a807447",
   "metadata": {},
   "outputs": [
    {
     "name": "stdout",
     "output_type": "stream",
     "text": [
      "IRADUKUNDA Gaudence\n",
      "IRADUKUNDA Gaudence\n",
      "IRADUKUNDA Gaudence\n"
     ]
    }
   ],
   "source": [
    "# For a \"while loop\"\n",
    "\n",
    "i = 0\n",
    "while i < 3:\n",
    "    print(\"IRADUKUNDA Gaudence\")\n",
    "    i += 1"
   ]
  },
  {
   "cell_type": "markdown",
   "id": "7693d9e1",
   "metadata": {},
   "source": [
    "# Question 5"
   ]
  },
  {
   "cell_type": "code",
   "execution_count": 15,
   "id": "34440574",
   "metadata": {},
   "outputs": [
    {
     "name": "stdout",
     "output_type": "stream",
     "text": [
      "Enter the first number (a0): 1\n",
      "Enter the second4\n",
      "1\n",
      "4\n",
      "5\n",
      "14\n",
      "33\n",
      "80\n",
      "193\n",
      "466\n",
      "1125\n",
      "2716\n",
      "6557\n",
      "15830\n",
      "38217\n",
      "92264\n",
      "222745\n",
      "537754\n"
     ]
    }
   ],
   "source": [
    "a0 = int(input(\"Enter the first number (a0): \"))\n",
    "a1 = int(input(\"Enter the second\"))\n",
    "print(a0)\n",
    "print(a1)\n",
    "an=0\n",
    "for i in range(14):\n",
    "    an+=a0 + a1\n",
    "    print(an)\n",
    "    a0=a1\n",
    "    a1=an    "
   ]
  },
  {
   "cell_type": "markdown",
   "id": "9f6ffa3b",
   "metadata": {},
   "source": [
    "# Question 6"
   ]
  },
  {
   "cell_type": "code",
   "execution_count": 16,
   "id": "9352bfce",
   "metadata": {
    "scrolled": true
   },
   "outputs": [
    {
     "name": "stdout",
     "output_type": "stream",
     "text": [
      "Enter x0: 2\n",
      "Enter x1: 7\n",
      "The first 30 terms are: [2, 7, 9, 25, 39, 94, 164, 364, 674, 1429, 2736, 5655, 11035, 22482, 44346, 89619, 177847, 357780, 712431, 1429555, 2852070, 5714700, 11413560, 22850880, 45666120, 91385700, 182691210, 365502705, 730824982, 1461920606]\n"
     ]
    }
   ],
   "source": [
    "x0 = int(input(\"Enter x0: \"))\n",
    "x1 = int(input(\"Enter x1: \"))\n",
    "s = [x0, x1]\n",
    "for i in range(2, 30):\n",
    "    next_term = (s[i-1] + 6 * s[i-2]) // 2\n",
    "    s.append(next_term)\n",
    "print(f\"The first 30 terms are: {s}\")"
   ]
  },
  {
   "cell_type": "markdown",
   "id": "f407a191",
   "metadata": {},
   "source": [
    "# Question 7"
   ]
  },
  {
   "cell_type": "code",
   "execution_count": 12,
   "id": "fb5ceae3",
   "metadata": {},
   "outputs": [
    {
     "name": "stdout",
     "output_type": "stream",
     "text": [
      "Enter a year: 2016\n",
      "2016 is a leap year.\n"
     ]
    }
   ],
   "source": [
    "# For a\n",
    "year = int(input(\"Enter a year: \"))\n",
    "\n",
    "if (year % 4 == 0 and year % 100 != 0) or (year % 400 == 0):\n",
    "    print(f\"{year} is a leap year.\")\n",
    "else:\n",
    "    print(f\"{year} is not a leap year.\")"
   ]
  },
  {
   "cell_type": "code",
   "execution_count": 13,
   "id": "7a94e591",
   "metadata": {},
   "outputs": [
    {
     "name": "stdout",
     "output_type": "stream",
     "text": [
      "Enter a year: 2018\n",
      "2018 is not a leap year.\n"
     ]
    }
   ],
   "source": [
    "# For b\n",
    "year = int(input(\"Enter a year: \"))\n",
    "is_leap = (year % 4 == 0) and (year % 100 != 0 or year % 400 == 0)\n",
    "print(f\"{year} is a leap year.\" * is_leap or f\"{year} is not a leap year.\")"
   ]
  },
  {
   "cell_type": "markdown",
   "id": "a83f899a",
   "metadata": {},
   "source": [
    "# Question 8"
   ]
  },
  {
   "cell_type": "code",
   "execution_count": 7,
   "id": "f0d98e50",
   "metadata": {},
   "outputs": [
    {
     "name": "stdout",
     "output_type": "stream",
     "text": [
      "Enter a number: 35\n",
      "Divisors of 35: [1, 5, 7, 35]\n"
     ]
    }
   ],
   "source": [
    "# For a\n",
    "n = int(input(\"Enter a number: \"))\n",
    "d = [i for i in range(1, n+1) if n % i == 0]\n",
    "print(f\"Divisors of {n}: {d}\")"
   ]
  },
  {
   "cell_type": "code",
   "execution_count": 8,
   "id": "31b8258e",
   "metadata": {},
   "outputs": [
    {
     "name": "stdout",
     "output_type": "stream",
     "text": [
      "Enter an integer: 2\n",
      "Prime factors of 2: [2]\n"
     ]
    }
   ],
   "source": [
    "# For b\n",
    "n = int(input(\"Enter an integer: \"))\n",
    "i = 2\n",
    "factors = []\n",
    "\n",
    "while i * i <= n:\n",
    "    if n % i:\n",
    "        i += 1\n",
    "    else:\n",
    "        n //= i\n",
    "        factors.append(i)\n",
    "\n",
    "if n > 1:\n",
    "    factors.append(n)\n",
    "\n",
    "print(f\"Prime factors of {n}: {factors}\")\n"
   ]
  },
  {
   "cell_type": "markdown",
   "id": "2408f514",
   "metadata": {},
   "source": [
    "# Question 9"
   ]
  },
  {
   "cell_type": "code",
   "execution_count": 3,
   "id": "f26f4ff8",
   "metadata": {},
   "outputs": [
    {
     "name": "stdout",
     "output_type": "stream",
     "text": [
      "10\n",
      "[1, 2, 5, 10]\n"
     ]
    }
   ],
   "source": [
    "# For a\n",
    "\n",
    "n = int(input())\n",
    "print([i for i in range(1, n + 1) if n % i == 0])"
   ]
  },
  {
   "cell_type": "code",
   "execution_count": 4,
   "id": "04761f8d",
   "metadata": {},
   "outputs": [
    {
     "name": "stdout",
     "output_type": "stream",
     "text": [
      "7\n",
      "[1, 7]\n"
     ]
    }
   ],
   "source": [
    "n = int(input())\n",
    "print([i for i in range(1, n + 1) if n % i == 0])"
   ]
  },
  {
   "cell_type": "code",
   "execution_count": 5,
   "id": "dd88c857",
   "metadata": {},
   "outputs": [
    {
     "name": "stdout",
     "output_type": "stream",
     "text": [
      "7\n",
      "[7]\n"
     ]
    }
   ],
   "source": [
    "# For b\n",
    "\n",
    "n = int(input())\n",
    "i = 2\n",
    "p = []\n",
    "while i * i <= n:\n",
    "    if n % i:\n",
    "        i += 1\n",
    "    else:\n",
    "        n //= i\n",
    "        p.append(i)\n",
    "if n > 1:\n",
    "    p.append(n)\n",
    "print(p)"
   ]
  },
  {
   "cell_type": "code",
   "execution_count": 6,
   "id": "9e1f94b1",
   "metadata": {},
   "outputs": [
    {
     "name": "stdout",
     "output_type": "stream",
     "text": [
      "7\n",
      "[7]\n"
     ]
    }
   ],
   "source": [
    "def f(n):\n",
    "    i=2\n",
    "    p=[]\n",
    "    while i*i<=n:\n",
    "        if n%i: i+=1\n",
    "        else: n//=i; p.append(i)\n",
    "    if n>1: p.append(n)\n",
    "    return p\n",
    "\n",
    "print(f(int(input())))"
   ]
  },
  {
   "cell_type": "markdown",
   "id": "25a3dc25",
   "metadata": {},
   "source": [
    "# Question 10"
   ]
  },
  {
   "cell_type": "code",
   "execution_count": 22,
   "id": "d01bf049",
   "metadata": {
    "scrolled": true
   },
   "outputs": [
    {
     "name": "stdout",
     "output_type": "stream",
     "text": [
      "Enter an integer between o and 9: 8\n",
      "Enter a natural number N: 15\n",
      "8 x 1 = 8\n",
      "8 x 2 = 16\n",
      "8 x 3 = 24\n",
      "8 x 4 = 32\n",
      "8 x 5 = 40\n",
      "8 x 6 = 48\n",
      "8 x 7 = 56\n",
      "8 x 8 = 64\n",
      "8 x 9 = 72\n",
      "8 x 10 = 80\n",
      "8 x 11 = 88\n",
      "8 x 12 = 96\n",
      "8 x 13 = 104\n",
      "8 x 14 = 112\n",
      "8 x 15 = 120\n"
     ]
    }
   ],
   "source": [
    "n = int(input(\"Enter an integer between o and 9: \"))\n",
    "N = int(input(\"Enter a natural number N: \"))\n",
    "\n",
    "for i in range(1, N + 1):\n",
    "    print(f\"{n} x {i} = {n * i}\")"
   ]
  },
  {
   "cell_type": "code",
   "execution_count": 23,
   "id": "9f276bf1",
   "metadata": {},
   "outputs": [
    {
     "name": "stdout",
     "output_type": "stream",
     "text": [
      "Enter an integer between o and 9: 7\n",
      "Enter a natural number N: 10\n",
      "7 x 1 = 7\n",
      "7 x 2 = 14\n",
      "7 x 3 = 21\n",
      "7 x 4 = 28\n",
      "7 x 5 = 35\n",
      "7 x 6 = 42\n",
      "7 x 7 = 49\n",
      "7 x 8 = 56\n",
      "7 x 9 = 63\n",
      "7 x 10 = 70\n"
     ]
    }
   ],
   "source": [
    "n = int(input(\"Enter an integer between o and 9: \"))\n",
    "N = int(input(\"Enter a natural number N: \"))\n",
    "\n",
    "for i in range(1, N + 1):\n",
    "    print(f\"{n} x {i} = {n * i}\")   "
   ]
  },
  {
   "cell_type": "markdown",
   "id": "68b61937",
   "metadata": {},
   "source": [
    "# Question 11"
   ]
  },
  {
   "cell_type": "code",
   "execution_count": 24,
   "id": "1484e82a",
   "metadata": {},
   "outputs": [
    {
     "name": "stdout",
     "output_type": "stream",
     "text": [
      "0\n",
      "3\n",
      "6\n",
      "7\n",
      "9\n",
      "11\n",
      "12\n",
      "14\n",
      "15\n",
      "18\n",
      "21\n",
      "22\n",
      "24\n",
      "27\n",
      "28\n",
      "30\n",
      "33\n",
      "35\n",
      "36\n",
      "39\n"
     ]
    }
   ],
   "source": [
    "for i in range(41):\n",
    "    if i % 3 == 0 or i % 7 == 0 or i % 11 == 0:\n",
    "        print(i)"
   ]
  },
  {
   "cell_type": "markdown",
   "id": "d06eb9c2",
   "metadata": {},
   "source": [
    "# Question 12"
   ]
  },
  {
   "cell_type": "code",
   "execution_count": 25,
   "id": "42229077",
   "metadata": {},
   "outputs": [
    {
     "name": "stdout",
     "output_type": "stream",
     "text": [
      "Enter a float number: 1.678435553\n",
      "The floor of 1.678435553 is 1\n"
     ]
    }
   ],
   "source": [
    "import math\n",
    "\n",
    "x = float(input(\"Enter a float number: \"))\n",
    "print(f\"The floor of {x} is {math.floor(x)}\")"
   ]
  },
  {
   "cell_type": "code",
   "execution_count": 26,
   "id": "33bc4517",
   "metadata": {},
   "outputs": [
    {
     "name": "stdout",
     "output_type": "stream",
     "text": [
      "Enter a float number: 15.5\n",
      "The floor of 15.5 is 15\n"
     ]
    }
   ],
   "source": [
    "import math\n",
    "\n",
    "x = float(input(\"Enter a float number: \"))\n",
    "print(f\"The floor of {x} is {math.floor(x)}\")"
   ]
  },
  {
   "cell_type": "markdown",
   "id": "5797bee3",
   "metadata": {},
   "source": [
    "# Question 13"
   ]
  },
  {
   "cell_type": "code",
   "execution_count": 14,
   "id": "1233bd12",
   "metadata": {},
   "outputs": [
    {
     "name": "stdout",
     "output_type": "stream",
     "text": [
      "Enter x co0rdinate:(-3, 9)\n"
     ]
    },
    {
     "ename": "ValueError",
     "evalue": "invalid literal for int() with base 10: '(-3, 9)'",
     "output_type": "error",
     "traceback": [
      "\u001b[1;31m---------------------------------------------------------------------------\u001b[0m",
      "\u001b[1;31mValueError\u001b[0m                                Traceback (most recent call last)",
      "Cell \u001b[1;32mIn[14], line 1\u001b[0m\n\u001b[1;32m----> 1\u001b[0m x\u001b[38;5;241m=\u001b[39m\u001b[38;5;28mint\u001b[39m(\u001b[38;5;28minput\u001b[39m(\u001b[38;5;124m\"\u001b[39m\u001b[38;5;124mEnter x co0rdinate:\u001b[39m\u001b[38;5;124m\"\u001b[39m))\n\u001b[0;32m      2\u001b[0m y\u001b[38;5;241m=\u001b[39m\u001b[38;5;28mint\u001b[39m(\u001b[38;5;28minput\u001b[39m(\u001b[38;5;124m\"\u001b[39m\u001b[38;5;124mEnter y coordinate:\u001b[39m\u001b[38;5;124m\"\u001b[39m))\n\u001b[0;32m      3\u001b[0m \u001b[38;5;28;01mif\u001b[39;00m x \u001b[38;5;241m==\u001b[39m \u001b[38;5;241m0\u001b[39m \u001b[38;5;129;01mand\u001b[39;00m y \u001b[38;5;241m==\u001b[39m \u001b[38;5;241m0\u001b[39m:\n",
      "\u001b[1;31mValueError\u001b[0m: invalid literal for int() with base 10: '(-3, 9)'"
     ]
    }
   ],
   "source": [
    "x=int(input(\"Enter x co0rdinate:\"))\n",
    "y=int(input(\"Enter y coordinate:\"))\n",
    "if x == 0 and y == 0:\n",
    "    print(\"Origin\")\n",
    "elif x == 0:\n",
    "    print(\"On the y-axis\")\n",
    "elif y == 0:\n",
    "    print(\"On the x-axis\")\n",
    "elif x > 0 and y > 0:\n",
    "    print(\"1st Quadrant\")\n",
    "elif x < 0 and y > 0:\n",
    "    print(\"2nd Quadrant\")\n",
    "elif x < 0 and y < 0:\n",
    "    print(\"3rd Quadrant\")\n",
    "else:\n",
    "    print(\"4th Quadrant\")\n",
    "    "
   ]
  },
  {
   "cell_type": "code",
   "execution_count": 11,
   "id": "0af411ee",
   "metadata": {},
   "outputs": [
    {
     "name": "stdout",
     "output_type": "stream",
     "text": [
      "Enter the coordinates (x, y): (2, 4)\n"
     ]
    },
    {
     "ename": "ValueError",
     "evalue": "could not convert string to float: '(2,'",
     "output_type": "error",
     "traceback": [
      "\u001b[1;31m---------------------------------------------------------------------------\u001b[0m",
      "\u001b[1;31mValueError\u001b[0m                                Traceback (most recent call last)",
      "Cell \u001b[1;32mIn[11], line 2\u001b[0m\n\u001b[0;32m      1\u001b[0m \u001b[38;5;28;01mwhile\u001b[39;00m \u001b[38;5;28;01mTrue\u001b[39;00m:\n\u001b[1;32m----> 2\u001b[0m     x, y \u001b[38;5;241m=\u001b[39m \u001b[38;5;28mmap\u001b[39m(\u001b[38;5;28mfloat\u001b[39m, \u001b[38;5;28minput\u001b[39m(\u001b[38;5;124m\"\u001b[39m\u001b[38;5;124mEnter the coordinates (x, y): \u001b[39m\u001b[38;5;124m\"\u001b[39m)\u001b[38;5;241m.\u001b[39msplit())\n\u001b[0;32m      4\u001b[0m     \u001b[38;5;28;01mif\u001b[39;00m x \u001b[38;5;241m==\u001b[39m \u001b[38;5;241m0\u001b[39m \u001b[38;5;129;01mand\u001b[39;00m y \u001b[38;5;241m==\u001b[39m \u001b[38;5;241m0\u001b[39m:\n\u001b[0;32m      5\u001b[0m         \u001b[38;5;28mprint\u001b[39m(\u001b[38;5;124m\"\u001b[39m\u001b[38;5;124mThe point is at the origin.\u001b[39m\u001b[38;5;124m\"\u001b[39m)\n",
      "\u001b[1;31mValueError\u001b[0m: could not convert string to float: '(2,'"
     ]
    }
   ],
   "source": [
    "while True:\n",
    "    x, y = map(float, input(\"Enter the coordinates (x, y): \").split())\n",
    "\n",
    "    if x == 0 and y == 0:\n",
    "        print(\"The point is at the origin.\")\n",
    "    elif x == 0:\n",
    "        print(\"The point lies on the y-axis.\")\n",
    "    elif y == 0:\n",
    "        print(\"The point lies on the x-axis.\")\n",
    "    elif x > 0 and y > 0:\n",
    "        print(\"The point is in the 1st quadrant.\")\n",
    "    elif x < 0 and y > 0:\n",
    "        print(\"The point is in the 2nd quadrant.\")\n",
    "    elif x < 0 and y < 0:\n",
    "        print(\"The point is in the 3rd quadrant.\")\n",
    "    else:\n",
    "        print(\"The point is in the 4th quadrant.\")\n",
    "\n",
    "    cont = input(\"Do you want to check another point? (yes/no): \").lower()\n",
    "    if cont != \"yes\":\n",
    "        print(\"Program finished.\")\n",
    "        break"
   ]
  },
  {
   "cell_type": "code",
   "execution_count": null,
   "id": "978bd972",
   "metadata": {},
   "outputs": [],
   "source": []
  },
  {
   "cell_type": "markdown",
   "id": "1359b919",
   "metadata": {},
   "source": [
    "# Question 14"
   ]
  },
  {
   "cell_type": "code",
   "execution_count": 10,
   "id": "de483118",
   "metadata": {},
   "outputs": [
    {
     "name": "stdout",
     "output_type": "stream",
     "text": [
      "Enter x (0-9): 5\n",
      "Enter max (0-255): 100\n",
      "[5, 10, 15, 20, 25, 30, 35, 40, 45, 50, 55, 60, 65, 70, 75, 80, 85, 90, 95, 100]\n",
      "Continue? (yes/no): yes\n",
      "Enter x (0-9): 6\n",
      "Enter max (0-255): 204\n",
      "[6, 12, 18, 24, 30, 36, 42, 48, 54, 60, 66, 72, 78, 84, 90, 96, 102, 108, 114, 120, 126, 132, 138, 144, 150, 156, 162, 168, 174, 180, 186, 192, 198, 204]\n",
      "Continue? (yes/no): no\n"
     ]
    }
   ],
   "source": [
    "while True:\n",
    "    x = int(input(\"Enter x (0-9): \"))\n",
    "    if 0 <= x < 10:\n",
    "        max_val = int(input(\"Enter max (0-255): \"))\n",
    "        if 0 <= max_val < 256:\n",
    "            print([i for i in range(x, max_val + 1, x)])\n",
    "            if input(\"Continue? (yes/no): \").lower() != \"yes\":\n",
    "                break"
   ]
  }
 ],
 "metadata": {
  "kernelspec": {
   "display_name": "Python 3 (ipykernel)",
   "language": "python",
   "name": "python3"
  },
  "language_info": {
   "codemirror_mode": {
    "name": "ipython",
    "version": 3
   },
   "file_extension": ".py",
   "mimetype": "text/x-python",
   "name": "python",
   "nbconvert_exporter": "python",
   "pygments_lexer": "ipython3",
   "version": "3.11.5"
  }
 },
 "nbformat": 4,
 "nbformat_minor": 5
}
