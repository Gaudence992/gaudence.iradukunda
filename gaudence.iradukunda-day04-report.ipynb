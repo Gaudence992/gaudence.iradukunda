{
 "cells": [
  {
   "cell_type": "markdown",
   "metadata": {
    "colab_type": "text",
    "id": "view-in-github"
   },
   "source": [
    "<a href=\"https://colab.research.google.com/github/ai-technipreneurs/python_course_colab_notebooks/blob/main/03_Lecture03.ipynb\" target=\"_parent\"><img src=\"https://colab.research.google.com/assets/colab-badge.svg\" alt=\"Open In Colab\"/></a>"
   ]
  },
  {
   "cell_type": "markdown",
   "metadata": {
    "id": "Sl7yf48Pcdd2"
   },
   "source": [
    "<center>\n",
    "    <a href=\"https://aims-senegal.org/\" ><img src=\"images/logoaimssn.jpeg\" style=\"float:left; max-width: 650px; display: inline\" alt=\"AIMS-SN\"/> </a>\n",
    "    </center>\n",
    "\n",
    "\n",
    "\n",
    "<center>\n",
    "    \n",
    "<a href=\"https://acas-yde.org/\" ><img src=\"images/logo-ACAS.jpg\" style=\"float:right; max-width: 250px; display: inline\" alt=\"ACAS\"/></a>\n",
    "    \n",
    "</center>\n"
   ]
  },
  {
   "cell_type": "markdown",
   "metadata": {
    "id": "3Sts8Q9ucdd5"
   },
   "source": [
    "****\n",
    "\n",
    "# <center> <b> <span style=\"color:orange;\"> Python Proficiency for Scientific Computing and Data Science (PyPro-SCiDaS)  </span> </b></center>\n",
    "\n",
    "### <center> <b> <span style=\"color:green;\">An Initiation to Programming using Python (Init2Py) </span> </b></center>\n",
    "    \n"
   ]
  },
  {
   "cell_type": "markdown",
   "metadata": {
    "id": "b_S3coZUcdd5"
   },
   "source": [
    "****\n",
    "\n",
    "# <center> <b> <span style=\"color:blue;\"> Lecture 3: Iterable Objects or Containers</span> </b></center>\n",
    "\n",
    "<!--NAVIGATION-->\n",
    "<  [2.Variables and assignements](02.Lecture02.ipynb)| [ToC](Index.ipynb) | [4.Flow control](04.Lecture04.ipynb)>\n",
    "\n",
    "****"
   ]
  },
  {
   "cell_type": "markdown",
   "metadata": {
    "id": "6TA2xbREcdd5"
   },
   "source": [
    "\n",
    "### <left> <b> <span style=\"color:brown;\">Instructeur : </span> </b></left>[Yaé Ulrich Gaba](https://github.com/gabayae)\n",
    "\n",
    "> **Summary:** This lecture aims to present `strings`, reviewing some of the most commonly encountered operations, particularly in text processing tasks. We will also examine the string class in greater detail, including how to use the `open()` function to open, read, and write to `files`.\n",
    "\n",
    "****"
   ]
  },
  {
   "cell_type": "markdown",
   "metadata": {
    "id": "Qzj3TVwGcdd5"
   },
   "source": [
    "As mentioned in previous sections, a Python program always operates based on the manipulation of objects. The instructions (whether defined in a free code, within an if clause, or in a while or for loop) are always executed on objects. Variables, as previously discussed, represent a particular type of Python object. In general, instructions in a Python program are defined from a collection of objects that come in various forms of value sequences. This sequence of values can, for example, consist of a set of variables with a single value. This ultimately means that a variable defined by a single value is generally not sufficient to form the architecture of a program. In the Python language, we have:\n",
    "\n",
    "   - A **list** object is a sequence of values (numerical and/or characters) that are **indexed** and specified within **square brackets**, separated by commas. Example:\n",
    "      ```python\n",
    "         x = [1, 5, 8, 10, 4, 50, 8] # List consisting only of numbers\n",
    "         y = [\"Olivier\", \"ENGEL\", \"Strasbourg\"] # List consisting only of characters\n",
    "         z = [1, \"Olivier\", 5, 8, \"ENGEL\", 10, 4, 50, \"Strasbourg\"] # List consisting of both numbers and characters.\n",
    "       \n",
    "      ```\n",
    "     A list object can be generated manually by specifying the values within square brackets or automatically using the `list()` function.\n",
    "      ```python\n",
    "        x = list(range(1, 10))\n",
    "        print(x) # returns [1, 2, 3, 4, 5, 6, 7, 8, 9]\n",
    "     ```\n",
    "   - A **tuple** object is a sequence of values (numerical and/or characters) that are **indexed** and specified within **parentheses**, separated by commas. Example:\n",
    "      ```python\n",
    "         x = (1, 5, 8, 10, 4, 50, 8) # Tuple consisting only of numbers\n",
    "         y = (\"Olivier\", \"ENGEL\", \"Strasbourg\") # Tuple consisting only of characters\n",
    "         z = (1, \"Olivier\", 5, 8, \"ENGEL\", 10, 4, 50, \"Strasbourg\") # Tuple consisting of both numbers and characters.\n",
    "       \n",
    "      ```\n",
    "     A tuple object can be generated manually by specifying the values within parentheses or automatically using the `tuple()` function.\n",
    "      ```python\n",
    "        x = tuple(range(1, 10))\n",
    "        print(x) # returns (1, 2, 3, 4, 5, 6, 7, 8, 9)\n",
    "     ```\n",
    "     \n",
    "   - A **set** object is a sequence of values (numerical and/or characters) that are **non-duplicated** and **non-indexed**, and specified within **curly braces**, separated by commas. Example:\n",
    "      ```python\n",
    "         x = {1, 5, 8, 10, 4, 50, 8} # Set consisting only of numbers\n",
    "         y = {\"Olivier\", \"ENGEL\", \"Strasbourg\"} # Set consisting only of characters\n",
    "         z = {1, \"Olivier\", 5, 8, \"ENGEL\", 10, 4, 50, \"Strasbourg\"} # Set consisting of both numbers and characters.\n",
    "       \n",
    "      ```\n",
    "     A set object can be generated manually by specifying the values within curly braces or automatically using the `set()` function.\n",
    "      ```python\n",
    "         v = [2, 4, \"orange\", \"meat\", 4, \"orange\"]\n",
    "         V = set(v)\n",
    "         print(V) # returns {2, 'orange', 4, 'meat'}\n",
    "      \n",
    "      ```\n",
    "   - A **dictionary** object is a sequence of values (numerical and/or characters) that are **indexed** by keys and specified within **curly braces**, separated by commas. Each `key` corresponds to one or more `values`. A dictionary consists of a set of `key-value` pairs. Example:   \n",
    "      ```python\n",
    "         x = {'name': 'Jean', 'weight': 70, 'height': 1.75} # Keys with unique values.\n",
    "         y = {'Jean': [25, 70, 1.75], 'Paul': [30, 65, 1.80], 'Pierre': [35, 75, 1.65]} # Key with multiple values formed by a list\n",
    "      \n",
    "      ```\n",
    "   In the dictionary `x`, the keys are name, weight, and height. The values corresponding to each of these keys are Jean, 70, and 1.75, respectively.\n",
    "In the dictionary `y`, the keys are Jean, Paul, and Pierre, while the values are lists consisting of three elements (age, weight, and height).\n",
    "A dictionary object can be generated manually by specifying the values within curly braces or automatically using the `dict()` function to create an empty dictionary. We will delve more into the definition of dictionaries later.\n",
    "\n",
    "The four objects we have just mentioned are also what we call `containers` simply because they `can contain` something. Thus, strings, lists, tuples, and dictionaries are the basic iterable objects in Python. Lists and dictionaries are mutable – their elements can be changed on the fly – while strings and tuples are immutable.\n",
    "\n",
    "The following three objects we mention are not iterable, but we will study them in more detail later on.\n",
    "\n",
    "   - A **function** object is a program designed to perform a specific operation. For example, the `print()` function is used to display the result of the instruction provided to it on the screen;\n",
    "   - A **class** object is a collection of functions, that is, an association of related functions;\n",
    "   - A **module** object is a collection of classes, that is, a collection of related classes.\""
   ]
  },
  {
   "cell_type": "markdown",
   "metadata": {
    "id": "oR5xd2KWcdd6"
   },
   "source": [
    "## 0. Lists\n",
    "\n",
    "\n",
    "### 0.0. Definition of a list object\n",
    "\n",
    "A list object can be declared and defined manually or by using the `list()` function. There are two categories of lists: one-dimensional lists (or simple lists) and multi-dimensional lists.\n",
    "\n",
    "- A simple list is a list whose elements consist of unique values separated by commas."
   ]
  },
  {
   "cell_type": "code",
   "execution_count": 31,
   "metadata": {},
   "outputs": [
    {
     "name": "stdout",
     "output_type": "stream",
     "text": [
      "[4, 3.6, 5.8, 9, 10]\n"
     ]
    }
   ],
   "source": [
    "Gogo = [4, 3.6, 5.8, 9, 10]\n",
    "print(Gogo)"
   ]
  },
  {
   "cell_type": "code",
   "execution_count": 36,
   "metadata": {},
   "outputs": [
    {
     "data": {
      "text/plain": [
       "list"
      ]
     },
     "execution_count": 36,
     "metadata": {},
     "output_type": "execute_result"
    }
   ],
   "source": [
    "type(Gogo)"
   ]
  },
  {
   "cell_type": "code",
   "execution_count": 40,
   "metadata": {},
   "outputs": [],
   "source": [
    "Gogo.append(65)"
   ]
  },
  {
   "cell_type": "code",
   "execution_count": 41,
   "metadata": {},
   "outputs": [
    {
     "name": "stdout",
     "output_type": "stream",
     "text": [
      "[4, 3.6, 5.8, 9, 10, 65]\n"
     ]
    }
   ],
   "source": [
    "print(Gogo)"
   ]
  },
  {
   "cell_type": "code",
   "execution_count": 54,
   "metadata": {},
   "outputs": [
    {
     "name": "stdout",
     "output_type": "stream",
     "text": [
      "[3.6, 4, 5.8, 9, 10, 65]\n"
     ]
    }
   ],
   "source": [
    "Gogo.sort()\n",
    "print(Gogo)"
   ]
  },
  {
   "cell_type": "code",
   "execution_count": 1,
   "metadata": {},
   "outputs": [
    {
     "name": "stdout",
     "output_type": "stream",
     "text": [
      "['gogo', 'jojo', 'treccy', 67, 98, 1.987]\n",
      "[2, 1, 6, 0, 10]\n"
     ]
    }
   ],
   "source": [
    "x1 = [\"gogo\", \"jojo\", \"treccy\", 67, 98, 1.987]\n",
    "x2 = [2, 1, 6, 0, 10]\n",
    "print(x1)\n",
    "print(x2)"
   ]
  },
  {
   "cell_type": "code",
   "execution_count": 55,
   "metadata": {},
   "outputs": [
    {
     "data": {
      "text/plain": [
       "list"
      ]
     },
     "execution_count": 55,
     "metadata": {},
     "output_type": "execute_result"
    }
   ],
   "source": [
    "type(x1)"
   ]
  },
  {
   "cell_type": "code",
   "execution_count": 2,
   "metadata": {},
   "outputs": [
    {
     "name": "stdout",
     "output_type": "stream",
     "text": [
      "[2, 1, 6, 0, 10]\n"
     ]
    }
   ],
   "source": [
    "print(x2)"
   ]
  },
  {
   "cell_type": "code",
   "execution_count": 3,
   "metadata": {},
   "outputs": [
    {
     "name": "stdout",
     "output_type": "stream",
     "text": [
      "[0, 1, 2, 6, 10]\n"
     ]
    }
   ],
   "source": [
    "x2.sort()\n",
    "print(x2)"
   ]
  },
  {
   "cell_type": "code",
   "execution_count": 39,
   "metadata": {},
   "outputs": [
    {
     "data": {
      "text/plain": [
       "list"
      ]
     },
     "execution_count": 39,
     "metadata": {},
     "output_type": "execute_result"
    }
   ],
   "source": [
    "type(x1)"
   ]
  },
  {
   "cell_type": "code",
   "execution_count": 1,
   "metadata": {
    "id": "0kMRqpqAcdd6"
   },
   "outputs": [
    {
     "name": "stdout",
     "output_type": "stream",
     "text": [
      "[-2.0, -1.0, 0.0, 1.0, 2.0]\n",
      "============================= \n",
      "\n",
      "[-1.0, -0.5, 0.0, 0.5, 1.0]\n"
     ]
    }
   ],
   "source": [
    "voltage = [-2.0, -1.0, 0.0, 1.0, 2.0]\n",
    "\n",
    "courant = [-1.0, -0.5, 0.0, 0.5, 1.0]\n",
    "\n",
    "print(voltage)\n",
    "print(\"============================= \\n\")\n",
    "print(courant)"
   ]
  },
  {
   "cell_type": "code",
   "execution_count": 2,
   "metadata": {
    "id": "bgqaqmGQcdd6",
    "scrolled": true
   },
   "outputs": [
    {
     "data": {
      "text/plain": [
       "list"
      ]
     },
     "execution_count": 2,
     "metadata": {},
     "output_type": "execute_result"
    }
   ],
   "source": [
    "type(voltage) # Returns the type of the variable 'courant'"
   ]
  },
  {
   "cell_type": "code",
   "execution_count": 7,
   "metadata": {},
   "outputs": [],
   "source": [
    "voltage.append(3.0)"
   ]
  },
  {
   "cell_type": "code",
   "execution_count": 8,
   "metadata": {},
   "outputs": [
    {
     "name": "stdout",
     "output_type": "stream",
     "text": [
      "[-2.0, -1.0, 0.0, 1.0, 2.0, 3.0]\n"
     ]
    }
   ],
   "source": [
    "print(voltage)"
   ]
  },
  {
   "cell_type": "code",
   "execution_count": 3,
   "metadata": {
    "id": "EqIvicfRcdd7"
   },
   "outputs": [
    {
     "data": {
      "text/plain": [
       "list"
      ]
     },
     "execution_count": 3,
     "metadata": {},
     "output_type": "execute_result"
    }
   ],
   "source": [
    "type(courant)"
   ]
  },
  {
   "cell_type": "code",
   "execution_count": 4,
   "metadata": {
    "id": "pRSc2Du6cdd7"
   },
   "outputs": [
    {
     "name": "stdout",
     "output_type": "stream",
     "text": [
      "Help on NoneType object:\n",
      "\n",
      "class NoneType(object)\n",
      " |  Methods defined here:\n",
      " |  \n",
      " |  __bool__(self, /)\n",
      " |      self != 0\n",
      " |  \n",
      " |  __repr__(self, /)\n",
      " |      Return repr(self).\n",
      " |  \n",
      " |  ----------------------------------------------------------------------\n",
      " |  Static methods defined here:\n",
      " |  \n",
      " |  __new__(*args, **kwargs) from builtins.type\n",
      " |      Create and return a new object.  See help(type) for accurate signature.\n",
      "\n"
     ]
    }
   ],
   "source": [
    "help(voltage.sort())"
   ]
  },
  {
   "cell_type": "code",
   "execution_count": 10,
   "metadata": {},
   "outputs": [
    {
     "name": "stdout",
     "output_type": "stream",
     "text": [
      "[-2.0, -1.0, 0.0, 1.0, 2.0, 3.0]\n"
     ]
    }
   ],
   "source": [
    "voltage.sort()\n",
    "print(voltage)"
   ]
  },
  {
   "cell_type": "markdown",
   "metadata": {
    "id": "6LZ8gTtUcdd7"
   },
   "source": [
    "Moreover, in some situations, you may first create an empty list which will later be filled with values using the `append()` function. To create an empty list, you can use:\n",
    "`x = list()` or `x = []`."
   ]
  },
  {
   "cell_type": "code",
   "execution_count": 11,
   "metadata": {},
   "outputs": [
    {
     "data": {
      "text/plain": [
       "list"
      ]
     },
     "execution_count": 11,
     "metadata": {},
     "output_type": "execute_result"
    }
   ],
   "source": [
    "emptylist = []\n",
    "type(emptylist)"
   ]
  },
  {
   "cell_type": "markdown",
   "metadata": {
    "id": "jQQPxWqPcdd7"
   },
   "source": [
    "- Unlike a simple list, a multi-dimensional list is a list where the individual elements consist of multiple values. In general, a multi-dimensional list is presented as a list of lists."
   ]
  },
  {
   "cell_type": "code",
   "execution_count": 12,
   "metadata": {
    "id": "O5u5hVpxcdd8"
   },
   "outputs": [
    {
     "data": {
      "text/plain": [
       "([[1, 2, 3], [2, 3, 4], [3, 4, 5]], [[[1, 2], [2, 3]], [[4, 5], [5, 6]]])"
      ]
     },
     "execution_count": 12,
     "metadata": {},
     "output_type": "execute_result"
    }
   ],
   "source": [
    "x = [[1,2,3],[2,3,4],[3,4,5]] # liste à deux dimensions (liste de listes)\n",
    "\n",
    "y = [[[1,2],[2,3]],[[4,5],[5,6]]] # liste à trois dimensions (liste de listes de listes)\n",
    "\n",
    "x,y"
   ]
  },
  {
   "cell_type": "code",
   "execution_count": 13,
   "metadata": {},
   "outputs": [
    {
     "data": {
      "text/plain": [
       "list"
      ]
     },
     "execution_count": 13,
     "metadata": {},
     "output_type": "execute_result"
    }
   ],
   "source": [
    "type(x)"
   ]
  },
  {
   "cell_type": "code",
   "execution_count": 61,
   "metadata": {},
   "outputs": [
    {
     "data": {
      "text/plain": [
       "[[1, 6], [2, 7, 9, 1], [11, 15, 34, 90]]"
      ]
     },
     "execution_count": 61,
     "metadata": {},
     "output_type": "execute_result"
    }
   ],
   "source": [
    "x1 = [[1,6], [2, 7,9,1], [11, 15, 34, 90]]\n",
    "x1"
   ]
  },
  {
   "cell_type": "code",
   "execution_count": 62,
   "metadata": {},
   "outputs": [
    {
     "data": {
      "text/plain": [
       "list"
      ]
     },
     "execution_count": 62,
     "metadata": {},
     "output_type": "execute_result"
    }
   ],
   "source": [
    "type(x1)"
   ]
  },
  {
   "cell_type": "markdown",
   "metadata": {
    "id": "EJ7B7x5pcdd8"
   },
   "source": [
    "Since a list is a sequence of indexed values, you can access each value or groups of values by specifying their index:"
   ]
  },
  {
   "cell_type": "code",
   "execution_count": 1,
   "metadata": {
    "id": "551AEYJLcdd8"
   },
   "outputs": [
    {
     "name": "stdout",
     "output_type": "stream",
     "text": [
      "['Monday', 'Tuesday', 'Wednesday', 1800, 20.357, 'Thursday', 'Friday']\n"
     ]
    }
   ],
   "source": [
    "x = list(['Monday', 'Tuesday', 'Wednesday', 1800, 20.357, 'Thursday', 'Friday']) # Definition of a list\n",
    "print(x) # Displays all the elements of the list x"
   ]
  },
  {
   "cell_type": "code",
   "execution_count": 2,
   "metadata": {},
   "outputs": [],
   "source": [
    "x.append(\"sunday\")"
   ]
  },
  {
   "cell_type": "code",
   "execution_count": 3,
   "metadata": {},
   "outputs": [
    {
     "name": "stdout",
     "output_type": "stream",
     "text": [
      "['Monday', 'Tuesday', 'Wednesday', 1800, 20.357, 'Thursday', 'Friday', 'sunday']\n"
     ]
    }
   ],
   "source": [
    "print(x)"
   ]
  },
  {
   "cell_type": "code",
   "execution_count": 15,
   "metadata": {
    "id": "wRi1Ybxhcdd8"
   },
   "outputs": [
    {
     "name": "stdout",
     "output_type": "stream",
     "text": [
      "Monday\n",
      "================================================\n",
      "\t\n",
      "1800\n",
      "================================================\n",
      "\t\n",
      "['Tuesday', 'Wednesday']\n",
      "================================================\n",
      "\t\n",
      "['Tuesday', 1800, 'Thursday']\n",
      "================================================\n",
      "\t\n",
      "['Wednesday', 1800, 20.357, 'Thursday', 'Friday']\n",
      "================================================\n",
      "\t\n",
      "['Monday', 'Tuesday', 'Wednesday']\n",
      "================================================\n",
      "\t\n",
      "Friday\n",
      "================================================\n",
      "\t\n",
      "Thursday\n",
      "================================================\n",
      "\t\n",
      "['Monday', 'Wednesday', 20.357, 'Friday']\n",
      "================================================\n",
      "\t\n",
      "['Friday', 'Thursday', 20.357, 1800, 'Wednesday', 'Tuesday', 'Monday']\n"
     ]
    }
   ],
   "source": [
    "print(x[0]) # Returns the first element of x: 'Monday' (Note: indexing starts at 0)\n",
    "print(\"================================================\")\n",
    "print('\\t')\n",
    "\n",
    "print(x[3]) # Returns the element at index 3 (fourth element of x): 1800\n",
    "print(\"================================================\")\n",
    "print('\\t')\n",
    "\n",
    "print(x[1:3]) # Returns all elements between index 1 and index 3 (Note: element at index 3 is excluded)\n",
    "print(\"================================================\")\n",
    "print('\\t')\n",
    "\n",
    "print(x[1:6:2]) # Returns all elements between index 1 and index 6 with a step of 2 elements each time ['Tuesday', 1800, 'Thursday'] (element at index 6 is excluded).\n",
    "print(\"================================================\")\n",
    "print('\\t')\n",
    "\n",
    "print(x[2:]) # Returns all elements starting from index 2 (inclusive).\n",
    "print(\"================================================\")\n",
    "print('\\t')\n",
    "\n",
    "print(x[:3]) # Returns all elements up to but not including index 3\n",
    "print(\"================================================\")\n",
    "print('\\t')\n",
    "\n",
    "print(x[-1]) # Negative indexing, returns the last element of the list (equivalent to x[6])\n",
    "print(\"================================================\")\n",
    "print('\\t')\n",
    "\n",
    "print(x[-2]) # Negative indexing, returns the second to last element of the list (equivalent to x[5])\n",
    "print(\"================================================\")\n",
    "print('\\t')\n",
    "\n",
    "print(x[::2]) # Iterates through all elements between index 0 and the last index, returning every second element ['Monday', 'Wednesday', 20.357, 'Friday'].\n",
    "print(\"================================================\")\n",
    "print('\\t')\n",
    "\n",
    "print(x[::-1]) # Returns a list containing all elements of x, rearranged from the last element to the first. This is a reverse of x. Returns ['Friday', 'Thursday', 20.357, 1800, 'Wednesday', 'Tuesday', 'Monday'].\n",
    "# The same result can be obtained by using x.reverse()\n",
    "x_rev = x.reverse()\n",
    "x_rev\n"
   ]
  },
  {
   "cell_type": "markdown",
   "metadata": {
    "id": "liqpPwahcdd8",
    "scrolled": true
   },
   "source": [
    "With a multi-dimensional list, indexing is done at multiple levels. For example"
   ]
  },
  {
   "cell_type": "code",
   "execution_count": 17,
   "metadata": {
    "id": "_uveKCXTcdd8"
   },
   "outputs": [
    {
     "name": "stdout",
     "output_type": "stream",
     "text": [
      "[[1, 2, 3], [2, 3, 4], [3, 4, 5]]\n",
      "================================================\n",
      "\t\n",
      "[1, 2, 3]\n",
      "================================================\n",
      "\t\n",
      "1\n",
      "================================================\n",
      "\t\n",
      "[3, 4, 5]\n",
      "================================================\n",
      "\t\n",
      "4\n",
      "================================================\n",
      "\t\n",
      "[[2, 3, 4], [3, 4, 5]]\n",
      "================================================\n",
      "\t\n",
      "[2, 3, 4]\n",
      "================================================\n",
      "\t\n",
      "[3, 4, 5]\n",
      "================================================\n",
      "\t\n",
      "[2, 3]\n",
      "================================================\n",
      "\t\n",
      "[3, 4]\n"
     ]
    }
   ],
   "source": [
    "x = [[1, 2, 3], [2, 3, 4], [3, 4, 5]]\n",
    "print(x)\n",
    "print(\"================================================\")\n",
    "print('\\t')\n",
    "\n",
    "print(x[0]) # Returns the first sublist [1, 2, 3]\n",
    "print(\"================================================\")\n",
    "print('\\t')\n",
    "\n",
    "print(x[0][0]) # Returns the first element of the first sublist, which is 1\n",
    "print(\"================================================\")\n",
    "print('\\t')\n",
    "\n",
    "print(x[2]) # Returns the third sublist [3, 4, 5]\n",
    "print(\"================================================\")\n",
    "print('\\t')\n",
    "\n",
    "print(x[2][1]) # Returns the element at index 1 of the third sublist, which is 4\n",
    "print(\"================================================\")\n",
    "print('\\t')\n",
    "\n",
    "print(x[1:]) # Returns all sublists starting from index 1: [[2, 3, 4], [3, 4, 5]]\n",
    "print(\"================================================\")\n",
    "print('\\t')\n",
    "\n",
    "print(x[1:][0]) # Returns the first sublist from the sliced list: [2, 3, 4]\n",
    "print(\"================================================\")\n",
    "print('\\t')\n",
    "\n",
    "print(x[-1]) # Returns the last sublist [3, 4, 5]\n",
    "print(\"================================================\")\n",
    "print('\\t')\n",
    "\n",
    "print(x[1][:2]) # Returns the first two elements of the second sublist: [2, 3]\n",
    "print(\"================================================\")\n",
    "print('\\t')\n",
    "\n",
    "print(x[1][1:]) # Returns elements from index 1 to the end of the second sublist: [3, 4]\n"
   ]
  },
  {
   "cell_type": "markdown",
   "metadata": {
    "id": "K3oKzhVlcdd9"
   },
   "source": [
    "### 0.1. The `range()` Function\n",
    "\n",
    "Value sequences are variables that are frequently encountered in Python programs. They represent a set of successive and ordered values that can be extracted like a list. Value sequences are generated using the `range()` function.\n",
    "\n",
    "The function has the following syntax:\n",
    "\n",
    "```python\n",
    "range(start, stop, step)\n",
    "```\n",
    "\n",
    " - start (optional): The value of the first number in the sequence. If omitted, the sequence starts from 0.\n",
    " - stop: The end of the sequence. This value is not included in the sequence.\n",
    " - step (optional): The difference between each pair of consecutive values in the sequence. If omitted, the default step is 1.\n",
    "\n",
    "Example:"
   ]
  },
  {
   "cell_type": "code",
   "execution_count": 18,
   "metadata": {
    "id": "DBeFeHX9cdd9"
   },
   "outputs": [
    {
     "name": "stdout",
     "output_type": "stream",
     "text": [
      "range(0, 10)\n",
      "================================================\n",
      "\t\n",
      "range(2, 10)\n",
      "================================================\n",
      "\t\n",
      "range(1, 10, 2)\n"
     ]
    }
   ],
   "source": [
    "x = range(10) # Creates a sequence of integer values from 0 to 9\n",
    "print(x)\n",
    "print(\"================================================\")\n",
    "print('\\t')\n",
    "\n",
    "x = range(2, 10) # Creates a sequence of integer values from 2 to 9\n",
    "print(x)\n",
    "print(\"================================================\")\n",
    "print('\\t')\n",
    "\n",
    "x = range(1, 10, 2) # Creates a sequence of integer values from 1 to 9 with a step of 2. It returns 1, 3, 5, 7, and 9\n",
    "print(x)\n"
   ]
  },
  {
   "cell_type": "code",
   "execution_count": null,
   "metadata": {
    "id": "ktGIfPN7cdd9"
   },
   "outputs": [],
   "source": [
    "To display the generated values, you can use the `list()` function, as shown below:"
   ]
  },
  {
   "cell_type": "code",
   "execution_count": 19,
   "metadata": {
    "id": "dckRSZZPcdd9"
   },
   "outputs": [
    {
     "name": "stdout",
     "output_type": "stream",
     "text": [
      "[0, 1, 2, 3, 4, 5, 6, 7, 8, 9]\n"
     ]
    }
   ],
   "source": [
    "x = range(10)\n",
    "\n",
    "print(list(x)) # Returns a list: values in square brackets [0, 1, 2, 3, 4, 5, 6, 7, 8, 9]\n"
   ]
  },
  {
   "cell_type": "code",
   "execution_count": 119,
   "metadata": {},
   "outputs": [
    {
     "name": "stdout",
     "output_type": "stream",
     "text": [
      "[0, 1, 2, 3, 4, 5, 6, 7, 8, 9, 10, 11, 12, 13, 14, 15, 16, 17, 18, 19, 20, 21, 22, 23, 24, 25, 26, 27, 28, 29, 30, 31, 32, 33, 34, 35, 36, 37, 38, 39, 40, 41, 42, 43, 44, 45, 46, 47, 48, 49, 50, 51, 52, 53, 54, 55, 56, 57, 58, 59, 60, 61, 62, 63, 64, 65, 66, 67, 68, 69, 70, 71, 72, 73, 74, 75, 76, 77, 78, 79, 80, 81, 82, 83, 84, 85, 86, 87, 88, 89, 90, 91, 92, 93, 94, 95, 96, 97, 98, 99]\n"
     ]
    }
   ],
   "source": [
    "P = range(100)\n",
    "print(list(P))"
   ]
  },
  {
   "cell_type": "code",
   "execution_count": 120,
   "metadata": {
    "scrolled": true
   },
   "outputs": [
    {
     "name": "stdout",
     "output_type": "stream",
     "text": [
      "[0, 1, 2, 3, 4, 5, 6, 7, 8, 9, 10, 11, 12, 13, 14, 15, 16, 17, 18, 19, 20, 21, 22, 23, 24, 25, 26, 27, 28, 29, 30, 31, 32, 33, 34, 35, 36, 37, 38, 39, 40, 41, 42, 43, 44, 45, 46, 47, 48, 49, 50, 51, 52, 53, 54, 55, 56, 57, 58, 59, 60, 61, 62, 63, 64, 65, 66, 67, 68, 69, 70, 71, 72, 73, 74, 75, 76, 77, 78, 79, 80, 81, 82, 83, 84, 85, 86, 87, 88, 89, 90, 91, 92, 93, 94, 95, 96, 97, 98, 99]\n"
     ]
    }
   ],
   "source": [
    "P = range(0,100)\n",
    "print(list(P))"
   ]
  },
  {
   "cell_type": "markdown",
   "metadata": {
    "id": "HFiucPAOcdd9"
   },
   "source": [
    "### 0.2. Operations on Lists\n",
    "\n",
    "Once a list is defined, several operations can be performed to modify its structure or its elements.\n",
    "\n",
    "- To find the number of elements in a list, we use the `len()` function. Example: consider the list `x` defined as follows:\n",
    "```python\n",
    "   x = ['Monday', 'Tuesday', 'Wednesday', 1800, 20.357, 'Thursday', 'Friday']\n",
    "```\n",
    "To find the length of `x` (the number of elements in `x`), we do:\n",
    "```python\n",
    "    print(len(x)) # returns 7\n",
    "```"
   ]
  },
  {
   "cell_type": "code",
   "execution_count": 20,
   "metadata": {
    "id": "h2_n65Pmcdd9"
   },
   "outputs": [
    {
     "name": "stdout",
     "output_type": "stream",
     "text": [
      "7\n"
     ]
    }
   ],
   "source": [
    "x = ['Monday', 'Tuesday', 'Wednesday', 1800, 20.357, 'Thursday', 'Friday']\n",
    "print(len(x)) # returns 7"
   ]
  },
  {
   "cell_type": "code",
   "execution_count": 112,
   "metadata": {},
   "outputs": [
    {
     "name": "stdout",
     "output_type": "stream",
     "text": [
      "18\n"
     ]
    }
   ],
   "source": [
    "y = [1, 2, 3, 4, 5, 6, 7, 8, 9, 10, 11, 12, 34, 56, 78, 90, 56, 39]\n",
    "print(len(y))"
   ]
  },
  {
   "cell_type": "markdown",
   "metadata": {
    "id": "5ZjlYMqScdd9"
   },
   "source": [
    "- We can concatenate two lists to form a single list using the `+` operator, which allows for list concatenation:\n",
    "```python\n",
    "   x = ['giraffe', 'tiger']\n",
    "   y = ['monkey', 'mouse']\n",
    "   z = x + y\n",
    "   print(z) # returns ['giraffe', 'tiger', 'monkey', 'mouse']\n",
    "```"
   ]
  },
  {
   "cell_type": "code",
   "execution_count": 21,
   "metadata": {
    "id": "0DKS7aRPcdd9"
   },
   "outputs": [
    {
     "name": "stdout",
     "output_type": "stream",
     "text": [
      "['giraffe', 'tiger', 'monkey', 'mouse']\n"
     ]
    }
   ],
   "source": [
    "x = ['giraffe', 'tiger']\n",
    "y = ['monkey', 'mouse']\n",
    "z = x + y\n",
    "print(z) # returns ['giraffe', 'tiger', 'monkey', 'mouse']"
   ]
  },
  {
   "cell_type": "code",
   "execution_count": 113,
   "metadata": {},
   "outputs": [
    {
     "name": "stdout",
     "output_type": "stream",
     "text": [
      "['gogo', 'jojo', 'soso', 5, 6, 7, 8]\n"
     ]
    }
   ],
   "source": [
    " y = ['gogo', 'jojo', 'soso']\n",
    " z = [5, 6, 7, 8]\n",
    " t = y + z\n",
    " print(t)"
   ]
  },
  {
   "cell_type": "markdown",
   "metadata": {
    "id": "Aj5pjpAKcdd9"
   },
   "source": [
    "- We can repeat the elements of a list using the multiplication operator `*`:\n",
    "```python\n",
    "    x = ['giraffe', 24, 18, 'tiger', 2400, 150]\n",
    "    y = x * 3\n",
    "    print(y) # returns ['giraffe', 24, 18, 'tiger', 2400, 150, 'giraffe', 24, 18, 'tiger', 2400, 150, 'giraffe', 24, 18, 'tiger', 2400, 150]\n",
    "```"
   ]
  },
  {
   "cell_type": "code",
   "execution_count": 22,
   "metadata": {
    "id": "ernWSb38cdd9"
   },
   "outputs": [
    {
     "name": "stdout",
     "output_type": "stream",
     "text": [
      "['giraffe', 24, 18, 'tiger', 2400, 150, 'giraffe', 24, 18, 'tiger', 2400, 150, 'giraffe', 24, 18, 'tiger', 2400, 150]\n"
     ]
    }
   ],
   "source": [
    "x = ['giraffe', 24, 18, 'tiger', 2400, 150]\n",
    "y = x * 3\n",
    "print(y) # returns ['giraffe', 24, 18, 'tiger', 2400, 150, 'giraffe', 24, 18,\n",
    "         # 'tiger', 2400, 150, 'giraffe', 24, 18, 'tiger', 2400, 150]"
   ]
  },
  {
   "cell_type": "markdown",
   "metadata": {
    "id": "vU3qfylTcdd9"
   },
   "source": [
    "- It is possible to modify a particular element in a list by using its index:\n",
    "```python\n",
    "    x = ['Monday', 'Tuesday', 'Wednesday', 1800, 20.357, 'Thursday', 'Friday']\n",
    "    x[3] = x[3] + 100\n",
    "    print(x) # returns ['Monday', 'Tuesday', 'Wednesday', 1900, 20.357, 'Thursday', 'Friday']\n",
    "    \n",
    "    x[6] = x[6] + ' Saint' # Note the space in ' Saint', otherwise you'll get 'FridaySaint'.\n",
    "    print(x) # returns ['Monday', 'Tuesday', 'Wednesday', 1900, 20.357, 'Thursday', 'Friday Saint']\n",
    "```"
   ]
  },
  {
   "cell_type": "code",
   "execution_count": 23,
   "metadata": {
    "id": "7hHddn1Kcdd9"
   },
   "outputs": [
    {
     "name": "stdout",
     "output_type": "stream",
     "text": [
      "['Monday', 'Tuesday', 'Wednesday', 1900, 20.357, 'Thursday', 'Friday']\n",
      "==================================================================\n",
      "\n",
      "['Monday', 'Tuesday', 'Wednesday', 1900, 20.357, 'Thursday', 'Friday Saint']\n"
     ]
    }
   ],
   "source": [
    "x = ['Monday', 'Tuesday', 'Wednesday', 1800, 20.357, 'Thursday', 'Friday']\n",
    "x[3] = x[3] + 100\n",
    "print(x) # returns ['Monday', 'Tuesday', 'Wednesday', 1900, 20.357, 'Thursday', 'Friday']\n",
    "\n",
    "print(\"==================================================================\\n\")\n",
    "x[6] = x[6] + ' Saint' # Note the space in ' Saint', otherwise you'll get 'FridaySaint'.\n",
    "print(x) # returns ['Monday', 'Tuesday', 'Wednesday', 1900, 20.357, 'Thursday', 'Friday Saint']"
   ]
  },
  {
   "cell_type": "code",
   "execution_count": 24,
   "metadata": {},
   "outputs": [
    {
     "ename": "TypeError",
     "evalue": "'str' object does not support item assignment",
     "output_type": "error",
     "traceback": [
      "\u001b[0;31m---------------------------------------------------------------------------\u001b[0m",
      "\u001b[0;31mTypeError\u001b[0m                                 Traceback (most recent call last)",
      "\u001b[0;32m<ipython-input-24-a6aa85b0b6b3>\u001b[0m in \u001b[0;36m<module>\u001b[0;34m\u001b[0m\n\u001b[1;32m      1\u001b[0m \u001b[0mGogo\u001b[0m \u001b[0;34m=\u001b[0m \u001b[0;34m\"Hello\"\u001b[0m\u001b[0;34m\u001b[0m\u001b[0;34m\u001b[0m\u001b[0m\n\u001b[0;32m----> 2\u001b[0;31m \u001b[0mGogo\u001b[0m\u001b[0;34m[\u001b[0m\u001b[0;36m2\u001b[0m\u001b[0;34m]\u001b[0m\u001b[0;34m=\u001b[0m\u001b[0;34m'gj'\u001b[0m\u001b[0;34m\u001b[0m\u001b[0;34m\u001b[0m\u001b[0m\n\u001b[0m",
      "\u001b[0;31mTypeError\u001b[0m: 'str' object does not support item assignment"
     ]
    }
   ],
   "source": [
    "Gogo = \"Hello\"\n",
    "Gogo[2]='gj'"
   ]
  },
  {
   "cell_type": "markdown",
   "metadata": {
    "id": "iF2px0lzcdd9"
   },
   "source": [
    "- New elements can be added in addition to the initial elements. For this, we use the `append()` function:\n",
    "```python\n",
    "    x = ['Monday', 'Tuesday', 'Wednesday', 'Thursday', 'Friday']\n",
    "    x.append('Saturday')\n",
    "    x.append('Sunday')\n",
    "    print(x)\n",
    "```"
   ]
  },
  {
   "cell_type": "code",
   "execution_count": 25,
   "metadata": {
    "id": "ezl-OgUPcdd9"
   },
   "outputs": [
    {
     "name": "stdout",
     "output_type": "stream",
     "text": [
      "['Monday', 'Tuesday', 'Wednesday', 'Thursday', 'Friday', 'Saturday', 'Sunday']\n"
     ]
    }
   ],
   "source": [
    "x = ['Monday', 'Tuesday', 'Wednesday', 'Thursday', 'Friday']\n",
    "x.append('Saturday')\n",
    "x.append('Sunday')\n",
    "print(x)"
   ]
  },
  {
   "cell_type": "code",
   "execution_count": 67,
   "metadata": {},
   "outputs": [
    {
     "name": "stdout",
     "output_type": "stream",
     "text": [
      "['Monday', 'Tuesday', 'Wednesday', 'Thursday', 'Friday', 'Saturday', 'Sunday', 'January']\n"
     ]
    }
   ],
   "source": [
    "x = ['Monday', 'Tuesday', 'Wednesday', 'Thursday', 'Friday']\n",
    "x.append('Saturday')\n",
    "x.append('Sunday')\n",
    "x.append('January')\n",
    "print(x)"
   ]
  },
  {
   "cell_type": "markdown",
   "metadata": {
    "id": "S3PvC2Xacdd9"
   },
   "source": [
    "As we can see, the `append()` function can only add one element to a list at a time. Therefore, we can use the `extend()` function when we want to add multiple elements at once. Example:\n",
    "```python\n",
    "    x = ['Monday', 'Tuesday', 'Wednesday', 'Thursday', 'Friday']\n",
    "    x.extend(['Saturday', 'Sunday'])\n",
    "    print(x)\n",
    "```"
   ]
  },
  {
   "cell_type": "code",
   "execution_count": 26,
   "metadata": {
    "id": "ZbmR_RSvcdd_"
   },
   "outputs": [
    {
     "name": "stdout",
     "output_type": "stream",
     "text": [
      "['Monday', 'Tuesday', 'Wednesday', 'Thursday', 'Friday', 'Saturday', 'Sunday']\n"
     ]
    }
   ],
   "source": [
    "x = ['Monday', 'Tuesday', 'Wednesday', 'Thursday', 'Friday']\n",
    "x.extend(['Saturday', 'Sunday'])\n",
    "print(x)"
   ]
  },
  {
   "cell_type": "code",
   "execution_count": 108,
   "metadata": {},
   "outputs": [
    {
     "name": "stdout",
     "output_type": "stream",
     "text": [
      "['January', 'February', 'March', 'Apple', 'May', 'June', 'July', 'August', 'September']\n"
     ]
    }
   ],
   "source": [
    "Y = ['January', 'February', 'March', 'Apple', 'May', 'June', 'July']\n",
    "Y.extend(['August', 'September'])\n",
    "print(Y)"
   ]
  },
  {
   "cell_type": "code",
   "execution_count": 109,
   "metadata": {},
   "outputs": [
    {
     "name": "stdout",
     "output_type": "stream",
     "text": [
      "['January', 'February', 'March', 'Apple', 'May', 'June', 'July', ['August', 'September']]\n"
     ]
    }
   ],
   "source": [
    "Y = ['January', 'February', 'March', 'Apple', 'May', 'June', 'July']\n",
    "Y.append(['August', 'September'])\n",
    "print(Y)"
   ]
  },
  {
   "cell_type": "markdown",
   "metadata": {
    "id": "AAqBBOCzcdd_"
   },
   "source": [
    "****\n",
    "For further study, explore the following methods and how they operate on lists:\n",
    "`insert()`, `remove()`, `delete()`, `index()`, `count()`, `join()`, `zip()`.\n",
    "***"
   ]
  },
  {
   "cell_type": "markdown",
   "metadata": {
    "id": "lNlLk0_7cdd_"
   },
   "source": [
    "<left> <b> <span style=\"color:brown;\">Given that their usage is quite uncommon, we will not cover `tuple` and `set` objects in this course. The brief presentation given above is relatively sufficient, and readers who explicitly need more information can consult the extensive documentation available online. </span> </b></left>\n",
    "\n",
    "However, we can mention that a `set` is an unordered iterable collection of distinct hashable elements and that classic mathematical operations on sets can be performed in Python. For example:"
   ]
  },
  {
   "cell_type": "markdown",
   "metadata": {
    "id": "NIxoqg3ycdd_"
   },
   "source": [
    "```python\n",
    "   X, Y = set('abcd'), set('sbds')\n",
    "   print(\"X =\", X) # X = {'a', 'c', 'b', 'd'}\n",
    "   print(\"Y =\", Y) # Y = {'s', 'b', 'd'} : only one element 's'\n",
    "    \n",
    "   print('c' in X)  # True\n",
    "   print('a' in Y)  # False\n",
    "   print(X - Y)     # {'a', 'c'}\n",
    "   print(Y - X)     # {'s'}\n",
    "   print(X | Y)     # {'a', 'c', 'b', 'd', 's'}\n",
    "   print(X & Y)     # {'b', 'd'}\n",
    "```          "
   ]
  },
  {
   "cell_type": "code",
   "execution_count": 27,
   "metadata": {
    "id": "8GtNTpLRcdd_"
   },
   "outputs": [
    {
     "name": "stdout",
     "output_type": "stream",
     "text": [
      "X = {'b', 'd', 'a', 'c'}\n",
      "=========================================\n",
      "\n",
      "Y = {'s', 'b', 'd'}\n",
      "=========================================\n",
      "\n",
      "True\n",
      "=========================================\n",
      "\n",
      "False\n",
      "=========================================\n",
      "\n",
      "{'a', 'c'}\n",
      "=========================================\n",
      "\n",
      "{'s'}\n",
      "=========================================\n",
      "\n",
      "{'s', 'b', 'd', 'a', 'c'}\n",
      "=========================================\n",
      "\n",
      "{'b', 'd'}\n"
     ]
    }
   ],
   "source": [
    "X, Y = set('abcd'), set('sbds')\n",
    "print(\"X =\", X) # X = {'a', 'c', 'b', 'd'}\n",
    "print(\"=========================================\\n\")\n",
    "\n",
    "print(\"Y =\", Y) # Y = {'s', 'b', 'd'} : only one element 's'\n",
    "print(\"=========================================\\n\")\n",
    "\n",
    "print('c' in X)  # True\n",
    "print(\"=========================================\\n\")\n",
    "\n",
    "print('a' in Y)  # False\n",
    "print(\"=========================================\\n\")\n",
    "\n",
    "print(X - Y)     # {'a', 'c'}\n",
    "print(\"=========================================\\n\")\n",
    "\n",
    "print(Y - X)     # {'s'}\n",
    "print(\"=========================================\\n\")\n",
    "\n",
    "print(X | Y)     # {'a', 'c', 'b', 'd', 's'}\n",
    "print(\"=========================================\\n\")\n",
    "\n",
    "print(X & Y)     # {'b', 'd'}\n"
   ]
  },
  {
   "cell_type": "markdown",
   "metadata": {
    "id": "GS_PZ1b0cdd_"
   },
   "source": [
    "## 1. Dictionaries\n",
    "\n",
    "### 1.0. About dictionaries\n",
    "\n",
    "In Pythonic design, a dictionary (also called a map) is a versatile collection of objects that adheres to the `key-value` principle. Unlike lists, where elements are accessed by their position or index, dictionaries use unique keys to identify and retrieve values. These keys are typically strings but can also be other immutable types, such as numbers or tuples. This key-value structure allows for efficient lookups, additions, and deletions, making dictionaries a powerful tool for organizing and managing data in a more intuitive and flexible way compared to lists."
   ]
  },
  {
   "cell_type": "code",
   "execution_count": 107,
   "metadata": {
    "id": "N6BD-4cAcdeA"
   },
   "outputs": [],
   "source": [
    "x = {'name': 'Jean', 'age': 25, 'weight': 70, 'height': 1.75}\n",
    "y = {'Jean': [25, 70, 1.75], 'Paul': [30, 65, 1.80], 'Pierre': [35, 75, 1.65]}\n",
    "z = {'Jean': (25, 70, 1.75), 'Paul': (30, 65, 1.80), 'Pierre': (35, 75, 1.65)}\n",
    "k = {'name': 'Jean', 'biometrics': [25, 70, 1.75], 'score': (12, 17, 15), 'rank': 25}"
   ]
  },
  {
   "cell_type": "markdown",
   "metadata": {
    "id": "m8Mcg_EYcdeA"
   },
   "source": [
    "The four variables above represent **four** typical ways to define a dictionary. Variable `x` is a dictionary where the keys are **name, age, weight, and height**. The corresponding values are **Jean, 25, 70**, and **1.75**. In the definition of `x`, it is noted that each key corresponds to a unique value. However, it is very common to associate multiple values with a single key. This is the case with dictionary `y`."
   ]
  },
  {
   "cell_type": "markdown",
   "metadata": {
    "id": "lPLKTCK1cdeA"
   },
   "source": [
    "###  1.1. Operations on dictionaries\n",
    "\n",
    " - To access the elements of a dictionary, you use the keys. The method `keys()` returns the list of keys in the dictionary, and the method `values()` returns the values.\n",
    "  ```python\n",
    "     X = {'name': 'Jean', 'age': 25, 'weight': 70, 'height': 1.75}\n",
    "     print(X.keys())  # returns ['name', 'age', 'weight', 'height']\n",
    "     print(X.values()) # returns ['Jean', 25, 70, 1.75]   \n",
    "     print(X['name'])  # returns 'Jean'   \n",
    "     x = {'Jean': [25, 70, 1.75], 'Paul': [30, 65, 1.80], 'Pierre': [35, 75, 1.65]}\n",
    "     print(x['Jean']) # returns [25, 70, 1.75]\n",
    "     print(x['Jean'][0]) # returns 25\n",
    "     print(x['Jean'][0:2]) # returns [25, 70]   \n",
    "  ```"
   ]
  },
  {
   "cell_type": "code",
   "execution_count": 28,
   "metadata": {
    "id": "UXLlbFo7cdeA"
   },
   "outputs": [
    {
     "name": "stdout",
     "output_type": "stream",
     "text": [
      "=========================================\n",
      "\n",
      "dict_keys(['name', 'age', 'weight', 'height'])\n",
      "=========================================\n",
      "\n",
      "dict_values(['Jean', 25, 70, 1.75])\n",
      "=========================================\n",
      "\n",
      "Jean\n",
      "=========================================\n",
      "\n",
      "=========================================\n",
      "\n",
      "[25, 70, 1.75]\n",
      "=========================================\n",
      "\n",
      "25\n",
      "=========================================\n",
      "\n",
      "[25, 70]\n"
     ]
    }
   ],
   "source": [
    "X = {'name': 'Jean', 'age': 25, 'weight': 70, 'height': 1.75}\n",
    "print(\"=========================================\\n\")\n",
    "\n",
    "print(X.keys())  # returns ['name', 'age', 'weight', 'height']\n",
    "print(\"=========================================\\n\")\n",
    "\n",
    "print(X.values()) # returns ['Jean', 25, 70, 1.75]\n",
    "print(\"=========================================\\n\")\n",
    "\n",
    "print(X['name'])  # returns 'Jean'\n",
    "print(\"=========================================\\n\")\n",
    "\n",
    "x = {'Jean': [25, 70, 1.75], 'Paul': [30, 65, 1.80], 'Pierre': [35, 75, 1.65]}\n",
    "print(\"=========================================\\n\")\n",
    "\n",
    "print(x['Jean']) # returns [25, 70, 1.75]\n",
    "print(\"=========================================\\n\")\n",
    "\n",
    "print(x['Jean'][0]) # returns 25\n",
    "print(\"=========================================\\n\")\n",
    "\n",
    "print(x['Jean'][0:2]) # returns [25, 70]"
   ]
  },
  {
   "cell_type": "markdown",
   "metadata": {
    "id": "FHiDuMWkcdeA"
   },
   "source": [
    "- Adding or modifying keys or values: You can modify a dictionary by either changing existing keys and values or by adding new ones. You can also remove values as well as keys.\n",
    "\n",
    "```python\n",
    "  x = {} # Creates an empty dictionary. You could also use x = dict()\n",
    "  x['name'] = 'Jean' # Adds the key-value pair 'name' and 'Jean' to the initial dictionary x\n",
    "  x['biometrics'] = [25, 70, 1.75] # Adds the key-value pair 'biometrics' and [25, 70, 1.75] to dictionary x\n",
    "  x['biometrics'] = [30, 70, 1.80] # Modifies the values of the 'biometrics' key by redefining it\n",
    "  x['biometrics'][0] = 2 # Modifies the element at index 0 in the list of values corresponding to the 'biometrics' key (previously defined)\n",
    "\n",
    "  Y = {'Jean': [25, 70, 1.75], 'Paul': [30, 65, 1.80], 'Pierre': [35, 75, 1.65]}\n",
    "  del Y['Jean'] # Deletes the key 'Jean' and all its corresponding values\n",
    "  del Y['Paul'][0] # Deletes the element at index 0 in the value sequence corresponding to the key 'Paul'. For a key with a single value, use del x['keyName'] where 'keyName' is the name of the key with the single value.\n",
    "\n",
    "```"
   ]
  },
  {
   "cell_type": "code",
   "execution_count": 29,
   "metadata": {
    "id": "0r57qbOJcdeA"
   },
   "outputs": [
    {
     "name": "stdout",
     "output_type": "stream",
     "text": [
      "{}\n",
      "=========================================\n",
      "\n",
      "{'name': 'Jean'}\n",
      "=========================================\n",
      "\n",
      "{'name': 'Jean', 'biometrics': [25, 70, 1.75]}\n",
      "=========================================\n",
      "\n",
      "{'name': 'Jean', 'biometrics': [30, 70, 1.8]}\n",
      "=========================================\n",
      "\n",
      "{'name': 'Jean', 'biometrics': [2, 70, 1.8]}\n",
      "=========================================\n",
      "\n",
      "{'Jean': [25, 70, 1.75], 'Paul': [30, 65, 1.8], 'Pierre': [35, 75, 1.65]}\n",
      "=========================================\n",
      "\n",
      "{'Paul': [65, 1.8], 'Pierre': [35, 75, 1.65]}\n"
     ]
    }
   ],
   "source": [
    "x = {} # Creates an empty dictionary. You could also use x = dict()\n",
    "print(x)\n",
    "print(\"=========================================\\n\")\n",
    "\n",
    "x['name'] = 'Jean' # Adds the key-value pair 'name' and 'Jean' to the initial dictionary x\n",
    "print(x)\n",
    "print(\"=========================================\\n\")\n",
    "\n",
    "x['biometrics'] = [25, 70, 1.75] # Adds the key-value pair 'biometrics' and [25, 70, 1.75] to dictionary x\n",
    "print(x)\n",
    "print(\"=========================================\\n\")\n",
    "\n",
    "x['biometrics'] = [30, 70, 1.80] # Modifies the values of the 'biometrics' key by redefining it\n",
    "print(x)\n",
    "print(\"=========================================\\n\")\n",
    "\n",
    "x['biometrics'][0] = 2 # Modifies the element at index 0 in the list of values corresponding to the 'biometrics' key (previously defined)\n",
    "print(x)\n",
    "print(\"=========================================\\n\")\n",
    "\n",
    "\n",
    "\n",
    "Y = {'Jean': [25, 70, 1.75], 'Paul': [30, 65, 1.80], 'Pierre': [35, 75, 1.65]}\n",
    "print(Y)\n",
    "print(\"=========================================\\n\")\n",
    "\n",
    "del Y['Jean'] # Deletes the key 'Jean' and all its corresponding values\n",
    "\n",
    "del Y['Paul'][0] # Deletes the element at index 0 in the value sequence corresponding to the key 'Paul'. For a key with a single value, use del x['keyName'] where 'keyName' is the name of the key with the single value.\n",
    "\n",
    "\n",
    "print(Y)"
   ]
  },
  {
   "cell_type": "markdown",
   "metadata": {
    "id": "OcdJLe0ecdeB"
   },
   "source": [
    "- To rename a key in a dictionary, you use the `pop()` function as defined in the following example:\n",
    "\n",
    "```python\n",
    "x = {'Jean': [25, 70, 1.75], 'Paul': [30, 65, 1.80], 'Pierre': [35, 75, 1.65]}\n",
    "x['John'] = x.pop('Jean') # Renames the key 'Jean' to 'John'\n",
    "print(x)\n",
    "\n",
    "```"
   ]
  },
  {
   "cell_type": "code",
   "execution_count": 30,
   "metadata": {
    "id": "nt7J8QIccdeB"
   },
   "outputs": [
    {
     "name": "stdout",
     "output_type": "stream",
     "text": [
      "{'Jean': [25, 70, 1.75], 'Paul': [30, 65, 1.8], 'Pierre': [35, 75, 1.65]}\n",
      "{'Paul': [30, 65, 1.8], 'Pierre': [35, 75, 1.65], 'John': [25, 70, 1.75]}\n"
     ]
    }
   ],
   "source": [
    "x = {'Jean': [25, 70, 1.75], 'Paul': [30, 65, 1.80], 'Pierre': [35, 75, 1.65]}\n",
    "print(x)\n",
    "\n",
    "x['John'] = x.pop('Jean') # Renames the key 'Jean' to 'John'\n",
    "print(x)"
   ]
  },
  {
   "cell_type": "code",
   "execution_count": 4,
   "metadata": {},
   "outputs": [
    {
     "name": "stdout",
     "output_type": "stream",
     "text": [
      "[1, 2, 3, 4, 5, 6, 7, 8, 9, 10]\n"
     ]
    }
   ],
   "source": [
    "# Exercise 1: Create a list of integers from 1 to 10.\n",
    "\n",
    "x = list(range(1,11))\n",
    "print(x)"
   ]
  },
  {
   "cell_type": "code",
   "execution_count": 5,
   "metadata": {},
   "outputs": [
    {
     "name": "stdout",
     "output_type": "stream",
     "text": [
      "('apple', 'banana', 'cherry')\n"
     ]
    }
   ],
   "source": [
    "# Exercise 2: Create a tuple containing the elements \"apple\", \"banana\", and \"cherry\".\n",
    "\n",
    "t = (\"apple\", \"banana\", \"cherry\")\n",
    "print(t)"
   ]
  },
  {
   "cell_type": "code",
   "execution_count": 6,
   "metadata": {},
   "outputs": [
    {
     "name": "stdout",
     "output_type": "stream",
     "text": [
      "(10, 20, 30, 40)\n"
     ]
    }
   ],
   "source": [
    "# Exercise 3: Convert the list numbers = [10, 20, 30, 40] into a tuple.\n",
    "\n",
    "x = [10, 20, 30, 40]\n",
    "x1 = tuple(x)\n",
    "print(x1)"
   ]
  },
  {
   "cell_type": "code",
   "execution_count": 7,
   "metadata": {},
   "outputs": [
    {
     "name": "stdout",
     "output_type": "stream",
     "text": [
      "{1, 2, 3, 4, 5}\n"
     ]
    }
   ],
   "source": [
    "# Exercise 4: Create a set containing the elements 1, 2, 3, 4, 5.\n",
    "\n",
    "S = {1, 2, 3, 4, 5}\n",
    "print(S)"
   ]
  },
  {
   "cell_type": "code",
   "execution_count": 8,
   "metadata": {},
   "outputs": [
    {
     "name": "stdout",
     "output_type": "stream",
     "text": [
      "{'name': 'Alice', 'age': 20, 'grade': 'A'}\n"
     ]
    }
   ],
   "source": [
    "# Exercise 5: Create a dictionary student with the keys \"name\", \"age\", and \"grade\" and corresponding values \"Alice\",20, and \"A\".\n",
    "\n",
    "student = {\"name\": \"Alice\", \"age\": 20, \"grade\": \"A\"}\n",
    "print(student)"
   ]
  },
  {
   "cell_type": "code",
   "execution_count": 9,
   "metadata": {},
   "outputs": [
    {
     "name": "stdout",
     "output_type": "stream",
     "text": [
      "20\n"
     ]
    }
   ],
   "source": [
    "# Exercise 6: Access the second element of the list [10, 20, 30, 40, 50] using indexing.\n",
    "\n",
    "e = [10, 20, 30, 40, 50][1]\n",
    "print(e)"
   ]
  },
  {
   "cell_type": "code",
   "execution_count": 10,
   "metadata": {},
   "outputs": [
    {
     "name": "stdout",
     "output_type": "stream",
     "text": [
      "['apple', 'banana', 'mango', 'orange']\n"
     ]
    }
   ],
   "source": [
    "# Exercise 7: Change the third element of the list fruits = [\"apple\", \"banana\", \"cherry\", \"orange\"] to \"mango\".\n",
    "\n",
    "fruits = [\"apple\", \"banana\", \"cherry\", \"orange\"]\n",
    "fruits[2] = \"mango\"\n",
    "print(fruits)"
   ]
  },
  {
   "cell_type": "code",
   "execution_count": 11,
   "metadata": {},
   "outputs": [
    {
     "name": "stdout",
     "output_type": "stream",
     "text": [
      "{1, 2, 3, 4, 5, 6}\n"
     ]
    }
   ],
   "source": [
    "# Exercise 8: Add the number 6 to the set numbers = {1, 2, 3, 4, 5}.\n",
    "\n",
    "numbers = {1, 2, 3, 4, 5}\n",
    "numbers.add(6)\n",
    "print(numbers)"
   ]
  },
  {
   "cell_type": "code",
   "execution_count": 12,
   "metadata": {},
   "outputs": [
    {
     "name": "stdout",
     "output_type": "stream",
     "text": [
      "{'name': 'John', 'city': 'New York'}\n"
     ]
    }
   ],
   "source": [
    "# Exercise 9: Remove the key \"age\" from the dictionary person = {\"name\": \"John\", \"age\": 25, \"city\": \"New York\"}\n",
    "\n",
    "person = {\"name\": \"John\", \"age\": 25, \"city\": \"New York\"}\n",
    "person.pop(\"age\")\n",
    "print(person)"
   ]
  },
  {
   "cell_type": "code",
   "execution_count": 13,
   "metadata": {},
   "outputs": [
    {
     "name": "stdout",
     "output_type": "stream",
     "text": [
      "[0, 1, 2, 3, 4, 5, 6, 7, 8, 9]\n"
     ]
    }
   ],
   "source": [
    "# Exercise 10: Create a range object starting from 0 to 9.\n",
    "\n",
    "T = list(range(0,10))\n",
    "print(T)"
   ]
  },
  {
   "cell_type": "code",
   "execution_count": 14,
   "metadata": {},
   "outputs": [
    {
     "name": "stdout",
     "output_type": "stream",
     "text": [
      "[1, 4, 9, 16, 25, 36, 49, 64, 81, 100]\n"
     ]
    }
   ],
   "source": [
    "# Exercise 11: Use a list comprehension to create a list of squares of numbers from 1 to 10.\n",
    "\n",
    "sq = [x**2 for x in range(1, 11)]\n",
    "print(sq)"
   ]
  },
  {
   "cell_type": "code",
   "execution_count": 15,
   "metadata": {},
   "outputs": [
    {
     "name": "stdout",
     "output_type": "stream",
     "text": [
      "(2, 4, 6, 8, 10)\n"
     ]
    }
   ],
   "source": [
    "# Exercise 12: Create a tuple of even numbers between 2 and 10 using a tuple comprehension.\n",
    "\n",
    "tu = tuple(x for x in range(2, 11) if x % 2 == 0)\n",
    "print(tu)"
   ]
  },
  {
   "cell_type": "code",
   "execution_count": 16,
   "metadata": {},
   "outputs": [
    {
     "name": "stdout",
     "output_type": "stream",
     "text": [
      "apple\n",
      "banana\n",
      "cherry\n"
     ]
    }
   ],
   "source": [
    "# Exercise 13: Use a for loop to iterate through the list fruits = [\"apple\", \"banana\", \"cherry\"] and print each element.\n",
    "\n",
    "fruits = [\"apple\", \"banana\", \"cherry\"]\n",
    "for fruit in fruits:\n",
    "    print(fruit)"
   ]
  },
  {
   "cell_type": "code",
   "execution_count": 18,
   "metadata": {},
   "outputs": [
    {
     "name": "stdout",
     "output_type": "stream",
     "text": [
      "True\n"
     ]
    }
   ],
   "source": [
    "# Exercise 14: Check if the value 3 exists in the set numbers = {1, 2, 3, 4, 5}.\n",
    "\n",
    "z = {1, 2, 3, 4, 5}\n",
    "exists = 3 in z\n",
    "print(exists)"
   ]
  },
  {
   "cell_type": "code",
   "execution_count": 19,
   "metadata": {},
   "outputs": [
    {
     "name": "stdout",
     "output_type": "stream",
     "text": [
      "5\n"
     ]
    }
   ],
   "source": [
    "# Exercise 15: Use the len() function to find the length of the tuple numbers = (10, 20, 30).\n",
    "\n",
    "numbers = {1, 2, 3, 4, 5}\n",
    "x = len(numbers)\n",
    "print(x)"
   ]
  },
  {
   "cell_type": "code",
   "execution_count": 99,
   "metadata": {},
   "outputs": [
    {
     "name": "stdout",
     "output_type": "stream",
     "text": [
      "[80, 85, 90, 95, 100]\n"
     ]
    }
   ],
   "source": [
    "# Exercise 16: Add the value 100 at the end of the list scores = [80, 85, 90, 95].\n",
    "\n",
    "c = [80, 85, 90, 95]\n",
    "c.append(100)\n",
    "print(c)"
   ]
  },
  {
   "cell_type": "code",
   "execution_count": 23,
   "metadata": {},
   "outputs": [
    {
     "name": "stdout",
     "output_type": "stream",
     "text": [
      "<function x at 0x7fdf04ef8ee0>\n"
     ]
    }
   ],
   "source": [
    "# Exercise 17: Write a function that takes a list as input and returns the sum of all elements in the list.\n",
    "\n",
    "def x(lst):\n",
    "    return(lst)\n",
    "print(x)"
   ]
  },
  {
   "cell_type": "code",
   "execution_count": 22,
   "metadata": {},
   "outputs": [
    {
     "name": "stdout",
     "output_type": "stream",
     "text": [
      "{1, 2, 3, 4, 5}\n"
     ]
    }
   ],
   "source": [
    "# Exercise 18: Create a set containing the unique elements of the list numbers = [1, 2, 2, 3, 4, 4, 5].\n",
    "\n",
    "numbers = [1, 2, 2, 3, 4, 4, 5]\n",
    "o = set(numbers)\n",
    "print(o)"
   ]
  },
  {
   "cell_type": "code",
   "execution_count": 21,
   "metadata": {},
   "outputs": [
    {
     "name": "stdout",
     "output_type": "stream",
     "text": [
      "['h', 'e', 'l', 'l', 'o']\n"
     ]
    }
   ],
   "source": [
    "# Exercise 19: Convert the string \"hello\" into a list of characters.\n",
    "\n",
    "x = \"hello\"\n",
    "y = list(x)\n",
    "print(y)"
   ]
  },
  {
   "cell_type": "code",
   "execution_count": 20,
   "metadata": {},
   "outputs": [
    {
     "name": "stdout",
     "output_type": "stream",
     "text": [
      "<function z at 0x7fdf04ef8f70>\n"
     ]
    }
   ],
   "source": [
    "# Exercise 20: Write a Python function that reverses a tuple (1, 2, 3, 4).\n",
    "\n",
    "def z(tup):\n",
    "    return tup[::-1]\n",
    "print(z)"
   ]
  },
  {
   "cell_type": "markdown",
   "metadata": {
    "id": "7jJMqjGDcdeB"
   },
   "source": [
    "<!--NAVIGATION-->\n",
    "<  [2.Variables and assignements](02_Lecture02.ipynb)| [ToC](Index.ipynb) | [4.Flow control](04_Lecture04.ipynb)>\n"
   ]
  }
 ],
 "metadata": {
  "colab": {
   "include_colab_link": true,
   "provenance": []
  },
  "kernelspec": {
   "display_name": "Python 3",
   "language": "python",
   "name": "python3"
  },
  "language_info": {
   "codemirror_mode": {
    "name": "ipython",
    "version": 3
   },
   "file_extension": ".py",
   "mimetype": "text/x-python",
   "name": "python",
   "nbconvert_exporter": "python",
   "pygments_lexer": "ipython3",
   "version": "3.9.2"
  }
 },
 "nbformat": 4,
 "nbformat_minor": 1
}
